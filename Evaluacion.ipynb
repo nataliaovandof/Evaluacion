{
  "nbformat": 4,
  "nbformat_minor": 0,
  "metadata": {
    "colab": {
      "provenance": [],
      "toc_visible": true,
      "authorship_tag": "ABX9TyPgMXEnm3S6UmY6kIZmb2eS",
      "include_colab_link": true
    },
    "kernelspec": {
      "name": "python3",
      "display_name": "Python 3"
    },
    "language_info": {
      "name": "python"
    }
  },
  "cells": [
    {
      "cell_type": "markdown",
      "metadata": {
        "id": "view-in-github",
        "colab_type": "text"
      },
      "source": [
        "<a href=\"https://colab.research.google.com/github/nataliaovandof/Evaluacion/blob/main/Evaluacion.ipynb\" target=\"_parent\"><img src=\"https://colab.research.google.com/assets/colab-badge.svg\" alt=\"Open In Colab\"/></a>"
      ]
    },
    {
      "cell_type": "markdown",
      "source": [
        "# **Evaluación**\n",
        "Natalia María Ovando Flores A01368118\n"
      ],
      "metadata": {
        "id": "g9sBNL1e0DRI"
      }
    },
    {
      "cell_type": "markdown",
      "source": [
        "\n",
        "## ETAPA 1: Preprocesamiento de DATOS"
      ],
      "metadata": {
        "id": "-PjPPWi8FJtn"
      }
    },
    {
      "cell_type": "code",
      "execution_count": 1,
      "metadata": {
        "id": "1L_yVQpf0Bb6"
      },
      "outputs": [],
      "source": [
        "import pandas as pd\n",
        "import numpy as np\n",
        "import matplotlib.pyplot as plt"
      ]
    },
    {
      "cell_type": "code",
      "source": [
        "from google.colab import files\n",
        "files.upload()"
      ],
      "metadata": {
        "colab": {
          "base_uri": "https://localhost:8080/",
          "height": 142
        },
        "id": "Dxgy9vKe0QBg",
        "outputId": "d8ab904d-785f-47f1-8251-cca96b61f0bb"
      },
      "execution_count": 2,
      "outputs": [
        {
          "output_type": "display_data",
          "data": {
            "text/plain": [
              "<IPython.core.display.HTML object>"
            ],
            "text/html": [
              "\n",
              "     <input type=\"file\" id=\"files-cacb36df-b00a-4fc9-9188-09f9b21ffd8b\" name=\"files[]\" multiple disabled\n",
              "        style=\"border:none\" />\n",
              "     <output id=\"result-cacb36df-b00a-4fc9-9188-09f9b21ffd8b\">\n",
              "      Upload widget is only available when the cell has been executed in the\n",
              "      current browser session. Please rerun this cell to enable.\n",
              "      </output>\n",
              "      <script>// Copyright 2017 Google LLC\n",
              "//\n",
              "// Licensed under the Apache License, Version 2.0 (the \"License\");\n",
              "// you may not use this file except in compliance with the License.\n",
              "// You may obtain a copy of the License at\n",
              "//\n",
              "//      http://www.apache.org/licenses/LICENSE-2.0\n",
              "//\n",
              "// Unless required by applicable law or agreed to in writing, software\n",
              "// distributed under the License is distributed on an \"AS IS\" BASIS,\n",
              "// WITHOUT WARRANTIES OR CONDITIONS OF ANY KIND, either express or implied.\n",
              "// See the License for the specific language governing permissions and\n",
              "// limitations under the License.\n",
              "\n",
              "/**\n",
              " * @fileoverview Helpers for google.colab Python module.\n",
              " */\n",
              "(function(scope) {\n",
              "function span(text, styleAttributes = {}) {\n",
              "  const element = document.createElement('span');\n",
              "  element.textContent = text;\n",
              "  for (const key of Object.keys(styleAttributes)) {\n",
              "    element.style[key] = styleAttributes[key];\n",
              "  }\n",
              "  return element;\n",
              "}\n",
              "\n",
              "// Max number of bytes which will be uploaded at a time.\n",
              "const MAX_PAYLOAD_SIZE = 100 * 1024;\n",
              "\n",
              "function _uploadFiles(inputId, outputId) {\n",
              "  const steps = uploadFilesStep(inputId, outputId);\n",
              "  const outputElement = document.getElementById(outputId);\n",
              "  // Cache steps on the outputElement to make it available for the next call\n",
              "  // to uploadFilesContinue from Python.\n",
              "  outputElement.steps = steps;\n",
              "\n",
              "  return _uploadFilesContinue(outputId);\n",
              "}\n",
              "\n",
              "// This is roughly an async generator (not supported in the browser yet),\n",
              "// where there are multiple asynchronous steps and the Python side is going\n",
              "// to poll for completion of each step.\n",
              "// This uses a Promise to block the python side on completion of each step,\n",
              "// then passes the result of the previous step as the input to the next step.\n",
              "function _uploadFilesContinue(outputId) {\n",
              "  const outputElement = document.getElementById(outputId);\n",
              "  const steps = outputElement.steps;\n",
              "\n",
              "  const next = steps.next(outputElement.lastPromiseValue);\n",
              "  return Promise.resolve(next.value.promise).then((value) => {\n",
              "    // Cache the last promise value to make it available to the next\n",
              "    // step of the generator.\n",
              "    outputElement.lastPromiseValue = value;\n",
              "    return next.value.response;\n",
              "  });\n",
              "}\n",
              "\n",
              "/**\n",
              " * Generator function which is called between each async step of the upload\n",
              " * process.\n",
              " * @param {string} inputId Element ID of the input file picker element.\n",
              " * @param {string} outputId Element ID of the output display.\n",
              " * @return {!Iterable<!Object>} Iterable of next steps.\n",
              " */\n",
              "function* uploadFilesStep(inputId, outputId) {\n",
              "  const inputElement = document.getElementById(inputId);\n",
              "  inputElement.disabled = false;\n",
              "\n",
              "  const outputElement = document.getElementById(outputId);\n",
              "  outputElement.innerHTML = '';\n",
              "\n",
              "  const pickedPromise = new Promise((resolve) => {\n",
              "    inputElement.addEventListener('change', (e) => {\n",
              "      resolve(e.target.files);\n",
              "    });\n",
              "  });\n",
              "\n",
              "  const cancel = document.createElement('button');\n",
              "  inputElement.parentElement.appendChild(cancel);\n",
              "  cancel.textContent = 'Cancel upload';\n",
              "  const cancelPromise = new Promise((resolve) => {\n",
              "    cancel.onclick = () => {\n",
              "      resolve(null);\n",
              "    };\n",
              "  });\n",
              "\n",
              "  // Wait for the user to pick the files.\n",
              "  const files = yield {\n",
              "    promise: Promise.race([pickedPromise, cancelPromise]),\n",
              "    response: {\n",
              "      action: 'starting',\n",
              "    }\n",
              "  };\n",
              "\n",
              "  cancel.remove();\n",
              "\n",
              "  // Disable the input element since further picks are not allowed.\n",
              "  inputElement.disabled = true;\n",
              "\n",
              "  if (!files) {\n",
              "    return {\n",
              "      response: {\n",
              "        action: 'complete',\n",
              "      }\n",
              "    };\n",
              "  }\n",
              "\n",
              "  for (const file of files) {\n",
              "    const li = document.createElement('li');\n",
              "    li.append(span(file.name, {fontWeight: 'bold'}));\n",
              "    li.append(span(\n",
              "        `(${file.type || 'n/a'}) - ${file.size} bytes, ` +\n",
              "        `last modified: ${\n",
              "            file.lastModifiedDate ? file.lastModifiedDate.toLocaleDateString() :\n",
              "                                    'n/a'} - `));\n",
              "    const percent = span('0% done');\n",
              "    li.appendChild(percent);\n",
              "\n",
              "    outputElement.appendChild(li);\n",
              "\n",
              "    const fileDataPromise = new Promise((resolve) => {\n",
              "      const reader = new FileReader();\n",
              "      reader.onload = (e) => {\n",
              "        resolve(e.target.result);\n",
              "      };\n",
              "      reader.readAsArrayBuffer(file);\n",
              "    });\n",
              "    // Wait for the data to be ready.\n",
              "    let fileData = yield {\n",
              "      promise: fileDataPromise,\n",
              "      response: {\n",
              "        action: 'continue',\n",
              "      }\n",
              "    };\n",
              "\n",
              "    // Use a chunked sending to avoid message size limits. See b/62115660.\n",
              "    let position = 0;\n",
              "    do {\n",
              "      const length = Math.min(fileData.byteLength - position, MAX_PAYLOAD_SIZE);\n",
              "      const chunk = new Uint8Array(fileData, position, length);\n",
              "      position += length;\n",
              "\n",
              "      const base64 = btoa(String.fromCharCode.apply(null, chunk));\n",
              "      yield {\n",
              "        response: {\n",
              "          action: 'append',\n",
              "          file: file.name,\n",
              "          data: base64,\n",
              "        },\n",
              "      };\n",
              "\n",
              "      let percentDone = fileData.byteLength === 0 ?\n",
              "          100 :\n",
              "          Math.round((position / fileData.byteLength) * 100);\n",
              "      percent.textContent = `${percentDone}% done`;\n",
              "\n",
              "    } while (position < fileData.byteLength);\n",
              "  }\n",
              "\n",
              "  // All done.\n",
              "  yield {\n",
              "    response: {\n",
              "      action: 'complete',\n",
              "    }\n",
              "  };\n",
              "}\n",
              "\n",
              "scope.google = scope.google || {};\n",
              "scope.google.colab = scope.google.colab || {};\n",
              "scope.google.colab._files = {\n",
              "  _uploadFiles,\n",
              "  _uploadFilesContinue,\n",
              "};\n",
              "})(self);\n",
              "</script> "
            ]
          },
          "metadata": {}
        },
        {
          "output_type": "stream",
          "name": "stdout",
          "text": [
            "Saving California_EUA.csv to California_EUA.csv\n",
            "Saving DF_Mexico.csv to DF_Mexico.csv\n",
            "Saving Girona_España.csv to Girona_España.csv\n"
          ]
        }
      ]
    },
    {
      "cell_type": "code",
      "source": [
        "california= pd.read_csv('California_EUA.csv', encoding = 'unicode_escape')\n",
        "df= pd.read_csv('DF_Mexico.csv')\n",
        "girona= pd.read_csv('Girona_España.csv', encoding = 'unicode_escape')"
      ],
      "metadata": {
        "id": "XXI_dBjB0SJa"
      },
      "execution_count": null,
      "outputs": []
    },
    {
      "cell_type": "markdown",
      "source": [
        "### Reemplazar Valores Nulos\n"
      ],
      "metadata": {
        "id": "Rsm9vA112ZXj"
      }
    },
    {
      "cell_type": "markdown",
      "source": [
        "#### California"
      ],
      "metadata": {
        "id": "ddvblpP6FtCJ"
      }
    },
    {
      "cell_type": "code",
      "source": [
        "california.info()"
      ],
      "metadata": {
        "id": "DJoyLOkx2Tbt"
      },
      "execution_count": null,
      "outputs": []
    },
    {
      "cell_type": "markdown",
      "source": [
        "Voy a dividir mis datos en datos númericos y en strings para manipulación más sencilla."
      ],
      "metadata": {
        "id": "kKipUcAb3wB_"
      }
    },
    {
      "cell_type": "code",
      "source": [
        "california_string = california.select_dtypes(include=['object'])\n",
        "california_float = california.select_dtypes(include=['float'])\n",
        "california_int = california.select_dtypes(include=['int64'])\n",
        "\n",
        "california_num = pd.concat([california_float, california_int], axis=1)"
      ],
      "metadata": {
        "id": "e3-FpUve3-lv"
      },
      "execution_count": null,
      "outputs": []
    },
    {
      "cell_type": "code",
      "source": [
        "valores_nulos=california_num.isnull().sum()\n",
        "valores_nulos"
      ],
      "metadata": {
        "id": "DMYjMK8D2t8w"
      },
      "execution_count": null,
      "outputs": []
    },
    {
      "cell_type": "code",
      "source": [
        "valores_nulos=california_string.isnull().sum()\n",
        "valores_nulos"
      ],
      "metadata": {
        "id": "dOlRy5rK6NMu"
      },
      "execution_count": null,
      "outputs": []
    },
    {
      "cell_type": "markdown",
      "source": [
        "Voy a rellenar mis datos númericos con el promedio y mis datos string con un before fill"
      ],
      "metadata": {
        "id": "FCLJFCbT27Sg"
      }
    },
    {
      "cell_type": "code",
      "source": [
        "california_num=california_num.fillna(round(california_float.mean(),1))\n",
        "california_string=california_string.fillna(method='bfill')"
      ],
      "metadata": {
        "id": "EyJA3mv22zrq"
      },
      "execution_count": null,
      "outputs": []
    },
    {
      "cell_type": "code",
      "source": [
        "valores_nulos=california_num.isnull().sum()\n",
        "valores_nulos"
      ],
      "metadata": {
        "id": "nAEUNQck6iks"
      },
      "execution_count": null,
      "outputs": []
    },
    {
      "cell_type": "markdown",
      "source": [
        "Vimos tengo columnas que no se rellenaron y aún tengo valores nulos, esas las rellenaré individualmente."
      ],
      "metadata": {
        "id": "AFdNObfi6uZ5"
      }
    },
    {
      "cell_type": "code",
      "source": [
        "california_num = california_num.fillna(0)"
      ],
      "metadata": {
        "id": "C20b99gS639o"
      },
      "execution_count": null,
      "outputs": []
    },
    {
      "cell_type": "code",
      "source": [
        "valores_nulos=california_num.isnull().sum()\n",
        "valores_nulos"
      ],
      "metadata": {
        "id": "FYZGQUPH7ls_"
      },
      "execution_count": null,
      "outputs": []
    },
    {
      "cell_type": "code",
      "source": [
        "valores_nulos=california_string.isnull().sum()\n",
        "valores_nulos"
      ],
      "metadata": {
        "id": "R7KOs6Gt7DjK"
      },
      "execution_count": null,
      "outputs": []
    },
    {
      "cell_type": "code",
      "source": [
        "california_string = california_string.fillna('--')"
      ],
      "metadata": {
        "id": "SMVSuCdP7SDJ"
      },
      "execution_count": null,
      "outputs": []
    },
    {
      "cell_type": "code",
      "source": [
        "valores_nulos=california_string.isnull().sum()\n",
        "valores_nulos"
      ],
      "metadata": {
        "id": "R_4y3iME8p5H"
      },
      "execution_count": null,
      "outputs": []
    },
    {
      "cell_type": "markdown",
      "source": [
        "#### México DF"
      ],
      "metadata": {
        "id": "fITT4HBN3NsD"
      }
    },
    {
      "cell_type": "code",
      "source": [
        "df.info()"
      ],
      "metadata": {
        "id": "OadXM4pl3Px1"
      },
      "execution_count": null,
      "outputs": []
    },
    {
      "cell_type": "code",
      "source": [
        "df_string = df.select_dtypes(include=['object'])\n",
        "df_float = df.select_dtypes(include=['float'])\n",
        "df_int = df.select_dtypes(include=['int64'])\n",
        "\n",
        "df_num = pd.concat([df_float, df_int], axis=1)"
      ],
      "metadata": {
        "id": "IQb5gepV_IWz"
      },
      "execution_count": null,
      "outputs": []
    },
    {
      "cell_type": "code",
      "source": [
        "valores_nulos=df_num.isnull().sum()\n",
        "valores_nulos"
      ],
      "metadata": {
        "id": "3PG-H3ZO3Quu"
      },
      "execution_count": null,
      "outputs": []
    },
    {
      "cell_type": "code",
      "source": [
        "valores_nulos=df_string.isnull().sum()\n",
        "valores_nulos"
      ],
      "metadata": {
        "id": "OjRq6cY7_FCc"
      },
      "execution_count": null,
      "outputs": []
    },
    {
      "cell_type": "code",
      "source": [
        "df_num=df_num.fillna(round(df_float.mean(),1))\n",
        "df_string=df_string.fillna(method='bfill')"
      ],
      "metadata": {
        "id": "e7hmfqM0_hd8"
      },
      "execution_count": null,
      "outputs": []
    },
    {
      "cell_type": "code",
      "source": [
        "valores_nulos=df_num.isnull().sum()\n",
        "valores_nulos"
      ],
      "metadata": {
        "id": "UZwYZA7w_ouX"
      },
      "execution_count": null,
      "outputs": []
    },
    {
      "cell_type": "code",
      "source": [
        "df_num = df_num.fillna(0)"
      ],
      "metadata": {
        "id": "iDD9XrHJ_q6f"
      },
      "execution_count": null,
      "outputs": []
    },
    {
      "cell_type": "code",
      "source": [
        "valores_nulos=df_num.isnull().sum()\n",
        "valores_nulos"
      ],
      "metadata": {
        "id": "bziPtr9L_qNs"
      },
      "execution_count": null,
      "outputs": []
    },
    {
      "cell_type": "code",
      "source": [
        "valores_nulos=df_string.isnull().sum()\n",
        "valores_nulos"
      ],
      "metadata": {
        "id": "REW5H7Ul_vpL"
      },
      "execution_count": null,
      "outputs": []
    },
    {
      "cell_type": "code",
      "source": [
        "df_string = df_string.fillna('--')"
      ],
      "metadata": {
        "id": "FLxSTIrE_ynm"
      },
      "execution_count": null,
      "outputs": []
    },
    {
      "cell_type": "code",
      "source": [
        "valores_nulos=df_string.isnull().sum()\n",
        "valores_nulos"
      ],
      "metadata": {
        "id": "8ln6eAvS_yA4"
      },
      "execution_count": null,
      "outputs": []
    },
    {
      "cell_type": "markdown",
      "source": [
        "#### Girona"
      ],
      "metadata": {
        "id": "ZS0LtKeZ83eB"
      }
    },
    {
      "cell_type": "code",
      "source": [
        "girona.info()"
      ],
      "metadata": {
        "id": "msSwFVhH84z3"
      },
      "execution_count": null,
      "outputs": []
    },
    {
      "cell_type": "code",
      "source": [
        "girona_string = girona.select_dtypes(include=['object'])\n",
        "girona_float = girona.select_dtypes(include=['float'])\n",
        "girona_int = girona.select_dtypes(include=['int64'])\n",
        "\n",
        "girona_num = pd.concat([girona_float, girona_int], axis=1)"
      ],
      "metadata": {
        "id": "pBdvHqYa9F_k"
      },
      "execution_count": null,
      "outputs": []
    },
    {
      "cell_type": "code",
      "source": [
        "valores_nulos=girona_num.isnull().sum()\n",
        "valores_nulos"
      ],
      "metadata": {
        "id": "HFVuelxF9Cbo"
      },
      "execution_count": null,
      "outputs": []
    },
    {
      "cell_type": "code",
      "source": [
        "valores_nulos=girona_string.isnull().sum()\n",
        "valores_nulos"
      ],
      "metadata": {
        "id": "1ih_JRTM9o_q"
      },
      "execution_count": null,
      "outputs": []
    },
    {
      "cell_type": "code",
      "source": [
        "girona_num=girona_num.fillna(round(girona_float.mean(),1))\n",
        "girona_string=girona_string.fillna(method='bfill')"
      ],
      "metadata": {
        "id": "AfLxmDBx9oef"
      },
      "execution_count": null,
      "outputs": []
    },
    {
      "cell_type": "code",
      "source": [
        "valores_nulos=girona_string.isnull().sum()\n",
        "valores_nulos"
      ],
      "metadata": {
        "id": "OFQdS1au9xpl"
      },
      "execution_count": null,
      "outputs": []
    },
    {
      "cell_type": "code",
      "source": [
        "girona_string = girona_string.fillna('--')"
      ],
      "metadata": {
        "id": "hxU8Uw2B90HU"
      },
      "execution_count": null,
      "outputs": []
    },
    {
      "cell_type": "code",
      "source": [
        "valores_nulos=girona_string.isnull().sum()\n",
        "valores_nulos"
      ],
      "metadata": {
        "id": "pDaAgxRU-H_f"
      },
      "execution_count": null,
      "outputs": []
    },
    {
      "cell_type": "code",
      "source": [
        "valores_nulos=girona_num.isnull().sum()\n",
        "valores_nulos"
      ],
      "metadata": {
        "id": "O1ONprz--OZu"
      },
      "execution_count": null,
      "outputs": []
    },
    {
      "cell_type": "code",
      "source": [
        "girona_num = girona_num.fillna(0)"
      ],
      "metadata": {
        "id": "zq9E3kiH-RSZ"
      },
      "execution_count": null,
      "outputs": []
    },
    {
      "cell_type": "code",
      "source": [
        "valores_nulos=girona_num.isnull().sum()\n",
        "valores_nulos"
      ],
      "metadata": {
        "id": "1qnP4LFM-V4x"
      },
      "execution_count": null,
      "outputs": []
    },
    {
      "cell_type": "markdown",
      "source": [
        "### Eliminación de Outliers:  Rango Intercuartílico\n"
      ],
      "metadata": {
        "id": "AemEEFd6BS6H"
      }
    },
    {
      "cell_type": "markdown",
      "source": [
        "#### California\n",
        "Ahora, para cada dataframe, eliminaremos los datos que sean demasiado extremos para cada dataframe. Para eso visualizaremos nuestra actual distribución de datos. \n",
        "\n",
        "Este proceso lo haremos en datos númericos únicamente."
      ],
      "metadata": {
        "id": "dmwlF4hBF2jg"
      }
    },
    {
      "cell_type": "code",
      "source": [
        "fig = plt.figure(figsize =(15, 8))\n",
        "california_num.plot(kind='box', vert=False)\n",
        "plt.title(\"Valores Atípicos del Dataframe California\")\n",
        "plt.show() "
      ],
      "metadata": {
        "id": "qR5-HkrjB0MM"
      },
      "execution_count": null,
      "outputs": []
    },
    {
      "cell_type": "code",
      "source": [
        "y=california_num\n",
        "\n",
        "percentile25=y.quantile(0.25) #Q1\n",
        "percentile75=y.quantile(0.75) #Q3\n",
        "iqr= percentile75 - percentile25\n",
        "\n",
        "Limite_Superior_iqr= percentile75 + 1.5*iqr\n",
        "Limite_Inferior_iqr= percentile25 - 1.5*iqr\n",
        "print(\"Limite superior permitido\\n\", Limite_Superior_iqr)\n",
        "print()\n",
        "print(\"Limite inferior permitido\\n\", Limite_Inferior_iqr)"
      ],
      "metadata": {
        "id": "KHjB5ljQBigE"
      },
      "execution_count": null,
      "outputs": []
    },
    {
      "cell_type": "code",
      "source": [
        "outliers= california_num[(y>Limite_Superior_iqr)|(y<Limite_Inferior_iqr)]\n",
        "outliers"
      ],
      "metadata": {
        "id": "ZnKoMUucCScr"
      },
      "execution_count": null,
      "outputs": []
    },
    {
      "cell_type": "code",
      "source": [
        "california_clean= california_num[(y<=Limite_Superior_iqr)&(y>=Limite_Inferior_iqr)]\n",
        "california_clean"
      ],
      "metadata": {
        "id": "RBWioIqlCd2j"
      },
      "execution_count": null,
      "outputs": []
    },
    {
      "cell_type": "code",
      "source": [
        "california_clean_final=california_clean.copy()\n",
        "california_clean_final=california_clean_final.fillna(round(california_clean_final.mean(),1))\n",
        "california_clean_final"
      ],
      "metadata": {
        "id": "-LDn5TQ5Cp8d"
      },
      "execution_count": null,
      "outputs": []
    },
    {
      "cell_type": "code",
      "source": [
        "fig = plt.figure(figsize =(15, 8))\n",
        "california_clean_final.plot(kind='box', vert=False)\n",
        "plt.title(\"Nueva Distribución del Dataframe California\")\n",
        "plt.show()"
      ],
      "metadata": {
        "id": "B-Vu246TC9TI"
      },
      "execution_count": null,
      "outputs": []
    },
    {
      "cell_type": "markdown",
      "source": [
        "Como podemos ver, el rango de nuestros datos disminuyó, excepto en el ID, por la naturaleza de este tipo de dato."
      ],
      "metadata": {
        "id": "f4DiS7_3DI0k"
      }
    },
    {
      "cell_type": "markdown",
      "source": [
        "#### México"
      ],
      "metadata": {
        "id": "PzljO8fTDRAd"
      }
    },
    {
      "cell_type": "code",
      "source": [
        "fig = plt.figure(figsize =(15, 8))\n",
        "df_num.plot(kind='box', vert=False)\n",
        "plt.title(\"Valores Atípicos del Dataframe DF\")\n",
        "plt.show() "
      ],
      "metadata": {
        "id": "GvXaXvTbDU2b"
      },
      "execution_count": null,
      "outputs": []
    },
    {
      "cell_type": "code",
      "source": [
        "y=df_num\n",
        "\n",
        "percentile25=y.quantile(0.25) #Q1\n",
        "percentile75=y.quantile(0.75) #Q3\n",
        "iqr= percentile75 - percentile25\n",
        "\n",
        "Limite_Superior_iqr= percentile75 + 1.5*iqr\n",
        "Limite_Inferior_iqr= percentile25 - 1.5*iqr\n",
        "print(\"Limite superior permitido\\n\", Limite_Superior_iqr)\n",
        "print()\n",
        "print(\"Limite inferior permitido\\n\", Limite_Inferior_iqr)"
      ],
      "metadata": {
        "id": "F2hdujj7Daip"
      },
      "execution_count": null,
      "outputs": []
    },
    {
      "cell_type": "code",
      "source": [
        "outliers= df_num[(y>Limite_Superior_iqr)|(y<Limite_Inferior_iqr)]\n",
        "outliers"
      ],
      "metadata": {
        "id": "KcEs80HyDe7q"
      },
      "execution_count": null,
      "outputs": []
    },
    {
      "cell_type": "code",
      "source": [
        "df_clean= df_num[(y<=Limite_Superior_iqr)&(y>=Limite_Inferior_iqr)]\n",
        "df_clean"
      ],
      "metadata": {
        "id": "gc4UG8T6DiGg"
      },
      "execution_count": null,
      "outputs": []
    },
    {
      "cell_type": "code",
      "source": [
        "df_clean_final=df_clean.copy()\n",
        "df_clean_final=df_clean_final.fillna(round(df_clean_final.mean(),1))\n",
        "df_clean_final"
      ],
      "metadata": {
        "id": "5RYOu-l1DmDt"
      },
      "execution_count": null,
      "outputs": []
    },
    {
      "cell_type": "code",
      "source": [
        "fig = plt.figure(figsize =(15, 8))\n",
        "df_clean_final.plot(kind='box', vert=False)\n",
        "plt.title(\"Nueva Distribución del Dataframe México\")\n",
        "plt.show()"
      ],
      "metadata": {
        "id": "KUauCsRMDqfQ"
      },
      "execution_count": null,
      "outputs": []
    },
    {
      "cell_type": "markdown",
      "source": [
        "#### Girona"
      ],
      "metadata": {
        "id": "MKNI04QjD0V2"
      }
    },
    {
      "cell_type": "code",
      "source": [
        "fig = plt.figure(figsize =(15, 8))\n",
        "girona_num.plot(kind='box', vert=False)\n",
        "plt.title(\"Valores Atípicos del Dataframe Girona\")\n",
        "plt.show() "
      ],
      "metadata": {
        "id": "oht0XvZ2D1HA"
      },
      "execution_count": null,
      "outputs": []
    },
    {
      "cell_type": "code",
      "source": [
        "y=girona_num\n",
        "\n",
        "percentile25=y.quantile(0.25) #Q1\n",
        "percentile75=y.quantile(0.75) #Q3\n",
        "iqr= percentile75 - percentile25\n",
        "\n",
        "Limite_Superior_iqr= percentile75 + 1.5*iqr\n",
        "Limite_Inferior_iqr= percentile25 - 1.5*iqr\n",
        "print(\"Limite superior permitido\\n\", Limite_Superior_iqr)\n",
        "print()\n",
        "print(\"Limite inferior permitido\\n\", Limite_Inferior_iqr)"
      ],
      "metadata": {
        "id": "4-vW-WOND4Uw"
      },
      "execution_count": null,
      "outputs": []
    },
    {
      "cell_type": "code",
      "source": [
        "outliers= girona_num[(y>Limite_Superior_iqr)|(y<Limite_Inferior_iqr)]\n",
        "outliers"
      ],
      "metadata": {
        "id": "s26Amx1-D6gF"
      },
      "execution_count": null,
      "outputs": []
    },
    {
      "cell_type": "code",
      "source": [
        "girona_clean= girona_num[(y<=Limite_Superior_iqr)&(y>=Limite_Inferior_iqr)]\n",
        "girona_clean"
      ],
      "metadata": {
        "id": "pfi6qCMVD8sL"
      },
      "execution_count": null,
      "outputs": []
    },
    {
      "cell_type": "code",
      "source": [
        "girona_clean_final=girona_clean.copy()\n",
        "girona_clean_final=girona_clean_final.fillna(round(girona_clean_final.mean(),1))\n",
        "girona_clean_final"
      ],
      "metadata": {
        "id": "hznOYH3pEAPn"
      },
      "execution_count": null,
      "outputs": []
    },
    {
      "cell_type": "code",
      "source": [
        "fig = plt.figure(figsize =(15, 8))\n",
        "girona_clean_final.plot(kind='box', vert=False)\n",
        "plt.title(\"Nueva Distribución del Dataframe Girona\")\n",
        "plt.show()"
      ],
      "metadata": {
        "id": "mxhujhTMEHPq"
      },
      "execution_count": null,
      "outputs": []
    },
    {
      "cell_type": "markdown",
      "source": [
        "Ahora tenemos datos mucho menos extremos, pudiendonos ayudar a acercarnos a una distribución normal. En todos los procesos de manipulación de datos se pierde información, el objetivo es que la información que conservemos sea lo suficientemente representativa para cualquier análisis que querramos hacer."
      ],
      "metadata": {
        "id": "q8wBFtlSEc6m"
      }
    },
    {
      "cell_type": "markdown",
      "source": [
        "### Concatenacion Final\n"
      ],
      "metadata": {
        "id": "h0V8vou-Ret7"
      }
    },
    {
      "cell_type": "code",
      "source": [
        "california = pd.concat([california_clean_final, california_string], axis=1)\n",
        "df = pd.concat([df_clean_final, df_string], axis=1)\n",
        "girona = pd.concat([girona_clean_final, girona_string], axis=1)"
      ],
      "metadata": {
        "id": "UoTIR6PgRgdk"
      },
      "execution_count": null,
      "outputs": []
    },
    {
      "cell_type": "code",
      "source": [
        "california.to_csv(\"california_clean_final.csv\")\n",
        "df.to_csv(\"df_clean_final.csv\")\n",
        "girona.to_csv(\"girona_clean_final.csv\")"
      ],
      "metadata": {
        "id": "RU-S53MhEwBc"
      },
      "execution_count": null,
      "outputs": []
    },
    {
      "cell_type": "code",
      "source": [
        "from google.colab import files \n",
        "  \n",
        "#files.download(\"california_clean_final.csv\")\n",
        "#files.download(\"df_clean_final.csv\")\n",
        "#files.download(\"girona_clean_final.csv\")"
      ],
      "metadata": {
        "id": "sI7uvSMVEw9Q"
      },
      "execution_count": null,
      "outputs": []
    },
    {
      "cell_type": "markdown",
      "source": [
        "## ETAPA 2: Extracción  de DATOS"
      ],
      "metadata": {
        "id": "RZABQZAMFk3P"
      }
    },
    {
      "cell_type": "code",
      "source": [
        "!pip install funpymodeling"
      ],
      "metadata": {
        "id": "zv046XZkHPDs",
        "colab": {
          "base_uri": "https://localhost:8080/"
        },
        "outputId": "ae55c3c5-f8e2-48c1-987e-227b168d65af"
      },
      "execution_count": 112,
      "outputs": [
        {
          "output_type": "stream",
          "name": "stdout",
          "text": [
            "Looking in indexes: https://pypi.org/simple, https://us-python.pkg.dev/colab-wheels/public/simple/\n",
            "Collecting funpymodeling\n",
            "  Downloading funpymodeling-0.1.7-py3-none-any.whl (6.4 kB)\n",
            "Requirement already satisfied: matplotlib<4.0.0,>=3.2.2 in /usr/local/lib/python3.10/dist-packages (from funpymodeling) (3.7.1)\n",
            "Collecting seaborn<0.11.0,>=0.10.1\n",
            "  Downloading seaborn-0.10.1-py3-none-any.whl (215 kB)\n",
            "\u001b[2K     \u001b[90m━━━━━━━━━━━━━━━━━━━━━━━━━━━━━━━━━━━━━━━\u001b[0m \u001b[32m215.5/215.5 kB\u001b[0m \u001b[31m6.9 MB/s\u001b[0m eta \u001b[36m0:00:00\u001b[0m\n",
            "\u001b[?25hRequirement already satisfied: pandas<2.0.0,>=1.0.5 in /usr/local/lib/python3.10/dist-packages (from funpymodeling) (1.5.3)\n",
            "Collecting sklearn<0.1,>=0.0\n",
            "  Downloading sklearn-0.0.post4.tar.gz (3.6 kB)\n",
            "  Preparing metadata (setup.py) ... \u001b[?25l\u001b[?25hdone\n",
            "Requirement already satisfied: numpy<2.0.0,>=1.18.5 in /usr/local/lib/python3.10/dist-packages (from funpymodeling) (1.22.4)\n",
            "Requirement already satisfied: cycler>=0.10 in /usr/local/lib/python3.10/dist-packages (from matplotlib<4.0.0,>=3.2.2->funpymodeling) (0.11.0)\n",
            "Requirement already satisfied: packaging>=20.0 in /usr/local/lib/python3.10/dist-packages (from matplotlib<4.0.0,>=3.2.2->funpymodeling) (23.1)\n",
            "Requirement already satisfied: pyparsing>=2.3.1 in /usr/local/lib/python3.10/dist-packages (from matplotlib<4.0.0,>=3.2.2->funpymodeling) (3.0.9)\n",
            "Requirement already satisfied: python-dateutil>=2.7 in /usr/local/lib/python3.10/dist-packages (from matplotlib<4.0.0,>=3.2.2->funpymodeling) (2.8.2)\n",
            "Requirement already satisfied: pillow>=6.2.0 in /usr/local/lib/python3.10/dist-packages (from matplotlib<4.0.0,>=3.2.2->funpymodeling) (8.4.0)\n",
            "Requirement already satisfied: fonttools>=4.22.0 in /usr/local/lib/python3.10/dist-packages (from matplotlib<4.0.0,>=3.2.2->funpymodeling) (4.39.3)\n",
            "Requirement already satisfied: kiwisolver>=1.0.1 in /usr/local/lib/python3.10/dist-packages (from matplotlib<4.0.0,>=3.2.2->funpymodeling) (1.4.4)\n",
            "Requirement already satisfied: contourpy>=1.0.1 in /usr/local/lib/python3.10/dist-packages (from matplotlib<4.0.0,>=3.2.2->funpymodeling) (1.0.7)\n",
            "Requirement already satisfied: pytz>=2020.1 in /usr/local/lib/python3.10/dist-packages (from pandas<2.0.0,>=1.0.5->funpymodeling) (2022.7.1)\n",
            "Requirement already satisfied: scipy>=1.0.1 in /usr/local/lib/python3.10/dist-packages (from seaborn<0.11.0,>=0.10.1->funpymodeling) (1.10.1)\n",
            "Requirement already satisfied: six>=1.5 in /usr/local/lib/python3.10/dist-packages (from python-dateutil>=2.7->matplotlib<4.0.0,>=3.2.2->funpymodeling) (1.16.0)\n",
            "Building wheels for collected packages: sklearn\n",
            "  Building wheel for sklearn (setup.py) ... \u001b[?25l\u001b[?25hdone\n",
            "  Created wheel for sklearn: filename=sklearn-0.0.post4-py3-none-any.whl size=2973 sha256=a22d906c8235d98ef18ded5ecd325a1b2088e19ec5b04a24431b1796a94adb02\n",
            "  Stored in directory: /root/.cache/pip/wheels/46/b8/69/4f7789b7d2fc0718a44cbc4ae5d40970a40c22c472ae50f0a1\n",
            "Successfully built sklearn\n",
            "Installing collected packages: sklearn, seaborn, funpymodeling\n",
            "  Attempting uninstall: seaborn\n",
            "    Found existing installation: seaborn 0.12.2\n",
            "    Uninstalling seaborn-0.12.2:\n",
            "      Successfully uninstalled seaborn-0.12.2\n",
            "Successfully installed funpymodeling-0.1.7 seaborn-0.10.1 sklearn-0.0.post4\n"
          ]
        }
      ]
    },
    {
      "cell_type": "code",
      "source": [
        "from funpymodeling.exploratory import freq_tbl "
      ],
      "metadata": {
        "id": "bwrDF-ZRGMmp"
      },
      "execution_count": 113,
      "outputs": []
    },
    {
      "cell_type": "code",
      "source": [
        "california.columns"
      ],
      "metadata": {
        "id": "0bvdqL8qUvWR"
      },
      "execution_count": null,
      "outputs": []
    },
    {
      "cell_type": "markdown",
      "source": [
        "### a) host_acceptance_rate> 50%\n",
        "Aqui tenemos datos numéricos en str, por lo que tenemos que pasar a un dato verdaderamente numérico."
      ],
      "metadata": {
        "id": "xfkrwBWkGnT8"
      }
    },
    {
      "cell_type": "markdown",
      "source": [
        "#### California"
      ],
      "metadata": {
        "id": "wAOjDKuOOa4M"
      }
    },
    {
      "cell_type": "code",
      "source": [
        "aCali= california[california['host_acceptance_rate']>'50%']\n",
        "aCali['host_acceptance_rate'].min()"
      ],
      "metadata": {
        "id": "l6BZRZeXOfPQ"
      },
      "execution_count": null,
      "outputs": []
    },
    {
      "cell_type": "markdown",
      "source": [
        "#### México"
      ],
      "metadata": {
        "id": "5Ud82bXYQk5R"
      }
    },
    {
      "cell_type": "code",
      "source": [
        "aMex= df[df['host_acceptance_rate']>'50%']\n",
        "aMex['host_acceptance_rate'].min() # mostramos el menor valor para confirmar que en la nueva columna el menor dato es menor a 50%"
      ],
      "metadata": {
        "id": "Gyy19niPQJQS"
      },
      "execution_count": null,
      "outputs": []
    },
    {
      "cell_type": "markdown",
      "source": [
        "#### Girona"
      ],
      "metadata": {
        "id": "dNZyl8MEQ4_r"
      }
    },
    {
      "cell_type": "code",
      "source": [
        "aGir= girona[girona['host_acceptance_rate']>'50%']\n",
        "aGir['host_acceptance_rate'].min() # mostramos el menor valor para confirmar que en la nueva columna el menor dato es menor a 50%"
      ],
      "metadata": {
        "id": "X63mI17lOZ6P"
      },
      "execution_count": null,
      "outputs": []
    },
    {
      "cell_type": "markdown",
      "source": [
        "En estos dataframe creados podemos tener información de los únicos alojamientos en Airbnb que reciben una tasa de aceptación mayor al 50%, que para un servicio, una tasa de aceptación de solo la mitad, es bastant4e baja."
      ],
      "metadata": {
        "id": "XMSHV4NBhr84"
      }
    },
    {
      "cell_type": "code",
      "source": [
        "aCali.to_csv(\"aCali.csv\")\n",
        "aMex.to_csv(\"aMex.csv\")\n",
        "aGir.to_csv(\"aGir.csv\")\n",
        "\n",
        "#files.download(\"aCali.csv\")\n",
        "#files.download(\"aMex.csv\")\n",
        "#files.download(\"aGir.csv\")"
      ],
      "metadata": {
        "id": "4enKdrqJSwAo"
      },
      "execution_count": null,
      "outputs": []
    },
    {
      "cell_type": "markdown",
      "source": [
        "### b) Sólo los registros con categoría “superhost”"
      ],
      "metadata": {
        "id": "lNmE-ykyGwFQ"
      }
    },
    {
      "cell_type": "markdown",
      "source": [
        "#### California"
      ],
      "metadata": {
        "id": "A5IQJMNvVVhz"
      }
    },
    {
      "cell_type": "code",
      "source": [
        "bCali= california[california['host_is_superhost']=='t']\n",
        "bCali"
      ],
      "metadata": {
        "id": "fQLMwMeiQ_1w"
      },
      "execution_count": null,
      "outputs": []
    },
    {
      "cell_type": "markdown",
      "source": [
        "#### Mexico"
      ],
      "metadata": {
        "id": "Ew2MG1q_VXJI"
      }
    },
    {
      "cell_type": "code",
      "source": [
        "bMex= df[df['host_is_superhost']=='t']\n",
        "bMex"
      ],
      "metadata": {
        "id": "-rAHdokFVZLF"
      },
      "execution_count": null,
      "outputs": []
    },
    {
      "cell_type": "markdown",
      "source": [
        "#### Girona"
      ],
      "metadata": {
        "id": "7OupiiEfVYBX"
      }
    },
    {
      "cell_type": "code",
      "source": [
        "bGir= girona[girona['host_is_superhost']=='t']\n",
        "bGir"
      ],
      "metadata": {
        "id": "zg5eXYfTVesx"
      },
      "execution_count": null,
      "outputs": []
    },
    {
      "cell_type": "markdown",
      "source": [
        "En este data frame nos encontramos solo con alojamientos que su host tuvo un desempeño excepcional."
      ],
      "metadata": {
        "id": "Gs7ZVRv2h80h"
      }
    },
    {
      "cell_type": "code",
      "source": [
        "bCali.to_csv(\"bCali.csv\")\n",
        "bMex.to_csv(\"bMex.csv\")\n",
        "bGir.to_csv(\"bGir.csv\")\n",
        "\n",
        "#files.download(\"bCali.csv\")\n",
        "#files.download(\"bMex.csv\")\n",
        "#files.download(\"bGir.csv\")"
      ],
      "metadata": {
        "id": "7ZYgMV_aVifX"
      },
      "execution_count": null,
      "outputs": []
    },
    {
      "cell_type": "markdown",
      "source": [
        "### c) Los registros que no hallan verificado identidad “ not identity_verified”"
      ],
      "metadata": {
        "id": "AjiH145bG0zZ"
      }
    },
    {
      "cell_type": "markdown",
      "source": [
        "#### California"
      ],
      "metadata": {
        "id": "kWoD-lDDWQgU"
      }
    },
    {
      "cell_type": "code",
      "source": [
        "cCali= california[california['host_identity_verified']=='f']\n",
        "cCali"
      ],
      "metadata": {
        "id": "Mgc3U6n8Wa7v"
      },
      "execution_count": null,
      "outputs": []
    },
    {
      "cell_type": "markdown",
      "source": [
        "#### México"
      ],
      "metadata": {
        "id": "BKQIBIJbWPSp"
      }
    },
    {
      "cell_type": "code",
      "source": [
        "cMex= df[df['host_identity_verified']=='f']\n",
        "cMex"
      ],
      "metadata": {
        "id": "FSfMwR_ZWYJD"
      },
      "execution_count": null,
      "outputs": []
    },
    {
      "cell_type": "markdown",
      "source": [
        "#### Girona\n"
      ],
      "metadata": {
        "id": "hptidY_iWRkc"
      }
    },
    {
      "cell_type": "code",
      "source": [
        "cGir= girona[girona['host_identity_verified']=='f']\n",
        "cGir"
      ],
      "metadata": {
        "id": "ZQfPXfnDV9hc"
      },
      "execution_count": null,
      "outputs": []
    },
    {
      "cell_type": "markdown",
      "source": [
        "En este dataframe obtenemos solo alojamientos con identidades no verificadas. Significa que estas respuestas son completamente anónimas, y de usuarios que no tienen identidad comprobada por airbnb"
      ],
      "metadata": {
        "id": "a9BzZobliHNN"
      }
    },
    {
      "cell_type": "code",
      "source": [
        "cCali.to_csv(\"cCali.csv\")\n",
        "cMex.to_csv(\"cMex.csv\")\n",
        "cGir.to_csv(\"cGir.csv\")\n",
        "\n",
        "#files.download(\"cCali.csv\")\n",
        "#files.download(\"cMex.csv\")\n",
        "#files.download(\"cGir.csv\")"
      ],
      "metadata": {
        "id": "-7OXmVkNWjNN"
      },
      "execution_count": null,
      "outputs": []
    },
    {
      "cell_type": "markdown",
      "source": [
        "### d) Los registro cuyo property_type = “Private room” y “Hotel room”"
      ],
      "metadata": {
        "id": "k-ooCpJVG3j3"
      }
    },
    {
      "cell_type": "markdown",
      "source": [
        "#### California\n",
        "Aqui la variable tiene datos como Room in hotel que seria lo equivalente a Hotel room"
      ],
      "metadata": {
        "id": "HHS2XMI1Wsev"
      }
    },
    {
      "cell_type": "code",
      "source": [
        "dCali= california[(california['property_type']=='Private room') | (california['property_type']== \"Room in hotel\")]\n",
        "dCali"
      ],
      "metadata": {
        "id": "Z76JN4Z1YHxO"
      },
      "execution_count": null,
      "outputs": []
    },
    {
      "cell_type": "markdown",
      "source": [
        "#### México"
      ],
      "metadata": {
        "id": "oZtd8Bh_WsoD"
      }
    },
    {
      "cell_type": "code",
      "source": [
        "dMex= df[(df['property_type']=='Private room') | (df['property_type']== \"Room in hotel\")]\n",
        "dMex"
      ],
      "metadata": {
        "id": "7Cv6vuzQYM5d"
      },
      "execution_count": null,
      "outputs": []
    },
    {
      "cell_type": "markdown",
      "source": [
        "#### Girona\n",
        "Ocurre el mismo caso que en california"
      ],
      "metadata": {
        "id": "xvxS6Gy6WswW"
      }
    },
    {
      "cell_type": "code",
      "source": [
        "dGir= girona[(girona['property_type']=='Private room') | (girona['property_type']== \"Room in hotel\")]\n",
        "dGir"
      ],
      "metadata": {
        "id": "pGBzX85hWmnS"
      },
      "execution_count": null,
      "outputs": []
    },
    {
      "cell_type": "code",
      "source": [
        "dCali.to_csv(\"dCali.csv\")\n",
        "dMex.to_csv(\"dMex.csv\")\n",
        "dGir.to_csv(\"dGir.csv\")\n",
        "\n",
        "#files.download(\"dCali.csv\")\n",
        "#files.download(\"dMex.csv\")\n",
        "#files.download(\"dGir.csv\")"
      ],
      "metadata": {
        "id": "Ee0gL4c5YVCc"
      },
      "execution_count": null,
      "outputs": []
    },
    {
      "cell_type": "markdown",
      "source": [
        "### e) Los registros que cuenten con bathroom > 1"
      ],
      "metadata": {
        "id": "1iUeQPHwG6N7"
      }
    },
    {
      "cell_type": "markdown",
      "source": [
        "#### California"
      ],
      "metadata": {
        "id": "Z9XK099uYj9l"
      }
    },
    {
      "cell_type": "code",
      "source": [
        "eCali= california[(california['bathrooms_text']!='1 bath') & (california['bathrooms_text']!= \"0 baths\") & (california['bathrooms_text']!= \"0 shared baths\") & (california['bathrooms_text']!= \"1 private bath\") & (california['bathrooms_text']!= \"1 shared bath\")&(california['bathrooms_text']!= \"Half-bath\")&(california['bathrooms_text']!= \"Shared half-bath\")&(california['bathrooms_text']!= \"Private half-bath\")]\n",
        "eCali"
      ],
      "metadata": {
        "id": "3_HcH3nOYzSV"
      },
      "execution_count": null,
      "outputs": []
    },
    {
      "cell_type": "markdown",
      "source": [
        "#### Mexico"
      ],
      "metadata": {
        "id": "BqfL9ZiYYlWz"
      }
    },
    {
      "cell_type": "code",
      "source": [
        "eMex= df[(df['bathrooms_text']!='1 bath') & (df['bathrooms_text']!= \"0 baths\") & (df['bathrooms_text']!= \"0 shared baths\") & (df['bathrooms_text']!= \"1 private bath\") & (df['bathrooms_text']!= \"1 shared bath\")&(df['bathrooms_text']!= \"Half-bath\")&(df['bathrooms_text']!= \"Shared half-bath\")&(df['bathrooms_text']!= \"Private half-bath\")]\n",
        "eMex"
      ],
      "metadata": {
        "id": "tg64ZkXbYz2K"
      },
      "execution_count": null,
      "outputs": []
    },
    {
      "cell_type": "markdown",
      "source": [
        "#### Girona"
      ],
      "metadata": {
        "id": "UD8dOkcnYmRw"
      }
    },
    {
      "cell_type": "code",
      "source": [
        "eGir= girona[(girona['bathrooms_text']!='1 bath') & (girona['bathrooms_text']!= \"0 baths\") & (girona['bathrooms_text']!= \"0 shared baths\") & (girona['bathrooms_text']!= \"1 private bath\") & (girona['bathrooms_text']!= \"1 shared bath\")&(girona['bathrooms_text']!= \"half-bath\")&(girona['bathrooms_text']!= \"Shared half bath\")]\n",
        "eGir"
      ],
      "metadata": {
        "id": "cKE8_PaVYao5"
      },
      "execution_count": null,
      "outputs": []
    },
    {
      "cell_type": "markdown",
      "source": [
        "Aqui tuvimos que usar la columna de texto de baño, puesto que la columna numerica la tuvimos que rellenar con 0 porque tenia NA. Es por eso usamos el código de que nos jalara todo lo que fuera diferente a 1 bath. Ya que esta columna tenía todos sus datos completos."
      ],
      "metadata": {
        "id": "XasuS9GMisEG"
      }
    },
    {
      "cell_type": "code",
      "source": [
        "eCali.to_csv(\"eCali.csv\")\n",
        "eMex.to_csv(\"eMex.csv\")\n",
        "eGir.to_csv(\"eGir.csv\")\n",
        "\n",
        "#files.download(\"eCali.csv\")\n",
        "#files.download(\"eMex.csv\")\n",
        "#files.download(\"eGir.csv\")"
      ],
      "metadata": {
        "id": "m0iGuL2cZpU_"
      },
      "execution_count": null,
      "outputs": []
    },
    {
      "cell_type": "markdown",
      "source": [
        "### f) Los registros cuyo precio sea mayor de $10,000 y que sean de tipo “Entire home”"
      ],
      "metadata": {
        "id": "HOGXaed0G8jQ"
      }
    },
    {
      "cell_type": "markdown",
      "source": [
        "#### California"
      ],
      "metadata": {
        "id": "FsL5fgKIciSF"
      }
    },
    {
      "cell_type": "code",
      "source": [
        "california['price'] = california['price'].str.replace('$', '')"
      ],
      "metadata": {
        "id": "dC2ycE3paSPy"
      },
      "execution_count": null,
      "outputs": []
    },
    {
      "cell_type": "code",
      "source": [
        "import re\n",
        "california['price'] = california['price'].apply(lambda x: re.sub('[^0-9]', '', x))"
      ],
      "metadata": {
        "id": "srrJXaZdbzWg"
      },
      "execution_count": null,
      "outputs": []
    },
    {
      "cell_type": "code",
      "source": [
        "california['price']=california['price'].astype(float)"
      ],
      "metadata": {
        "id": "C6yNAO-rcrxL"
      },
      "execution_count": null,
      "outputs": []
    },
    {
      "cell_type": "code",
      "source": [
        "california['price'].info()"
      ],
      "metadata": {
        "id": "kkKx5Csvd2-3"
      },
      "execution_count": null,
      "outputs": []
    },
    {
      "cell_type": "code",
      "source": [
        "fCali= california[(california['price']>10000) | (california['property_type']== \"Entire home\")]\n",
        "fCali"
      ],
      "metadata": {
        "id": "szjEjJI-bFBx"
      },
      "execution_count": null,
      "outputs": []
    },
    {
      "cell_type": "markdown",
      "source": [
        "#### México"
      ],
      "metadata": {
        "id": "qrKJE1H3eJE_"
      }
    },
    {
      "cell_type": "code",
      "source": [
        "df['price'] = df['price'].str.replace('$', '')"
      ],
      "metadata": {
        "id": "yEENwRhdeK1e"
      },
      "execution_count": null,
      "outputs": []
    },
    {
      "cell_type": "code",
      "source": [
        "import re\n",
        "df['price'] = df['price'].apply(lambda x: re.sub('[^0-9]', '', x))"
      ],
      "metadata": {
        "id": "hK7r2NYeeNBD"
      },
      "execution_count": null,
      "outputs": []
    },
    {
      "cell_type": "code",
      "source": [
        "df['price']=df['price'].astype(float)"
      ],
      "metadata": {
        "id": "IQwomoyuePvq"
      },
      "execution_count": null,
      "outputs": []
    },
    {
      "cell_type": "code",
      "source": [
        "fMex= df[(df['price']>10000) | (df['property_type']== \"Entire home\")]\n",
        "fMex"
      ],
      "metadata": {
        "id": "uA7qU9k9eRzv"
      },
      "execution_count": null,
      "outputs": []
    },
    {
      "cell_type": "markdown",
      "source": [
        "#### Girona"
      ],
      "metadata": {
        "id": "llxMpjRxegXw"
      }
    },
    {
      "cell_type": "code",
      "source": [
        "girona['price'] = girona['price'].str.replace('$', '')"
      ],
      "metadata": {
        "id": "Zsc9tOhzeh8T"
      },
      "execution_count": null,
      "outputs": []
    },
    {
      "cell_type": "code",
      "source": [
        "import re\n",
        "girona['price'] = girona['price'].apply(lambda x: re.sub('[^0-9]', '', x))"
      ],
      "metadata": {
        "id": "PQiB4xfSejT2"
      },
      "execution_count": null,
      "outputs": []
    },
    {
      "cell_type": "code",
      "source": [
        "girona['price']=girona['price'].astype(float)"
      ],
      "metadata": {
        "id": "fsx2C6hSekwn"
      },
      "execution_count": null,
      "outputs": []
    },
    {
      "cell_type": "code",
      "source": [
        "fGir= girona[(girona['price']>10000) | (girona['property_type']== \"Entire home\")]\n",
        "fGir"
      ],
      "metadata": {
        "id": "SpIECP4Zelwp"
      },
      "execution_count": null,
      "outputs": []
    },
    {
      "cell_type": "markdown",
      "source": [
        "Para esta categoría, tuvimos que eliminar el signo de pesos que contenia y pasarlo a float para poder trabajar con un filtro numérico. Si no, nuestro filtro no podia funcionar de manera correcta."
      ],
      "metadata": {
        "id": "gMGYl07Ni7oy"
      }
    },
    {
      "cell_type": "code",
      "source": [
        "fCali.to_csv(\"fCali.csv\")\n",
        "fMex.to_csv(\"fMex.csv\")\n",
        "fGir.to_csv(\"fGir.csv\")\n",
        "\n",
        "#files.download(\"fCali.csv\")\n",
        "#files.download(\"fMex.csv\")\n",
        "#files.download(\"fGir.csv\")"
      ],
      "metadata": {
        "id": "4VdLrOkOetgp"
      },
      "execution_count": null,
      "outputs": []
    },
    {
      "cell_type": "markdown",
      "source": [
        "### g) Los registros cuyo review_scores_cleanliness > 4.5"
      ],
      "metadata": {
        "id": "AxxOOqzgG_QK"
      }
    },
    {
      "cell_type": "markdown",
      "source": [
        "#### California"
      ],
      "metadata": {
        "id": "_f7rkmv1fLUx"
      }
    },
    {
      "cell_type": "code",
      "source": [
        "gCali= california[(california['review_scores_cleanliness']>4.5)]\n",
        "gCali"
      ],
      "metadata": {
        "id": "C0VamytcfXLH"
      },
      "execution_count": null,
      "outputs": []
    },
    {
      "cell_type": "markdown",
      "source": [
        "#### México"
      ],
      "metadata": {
        "id": "sqPKEdqhfMal"
      }
    },
    {
      "cell_type": "code",
      "source": [
        "gMex= df[(df['review_scores_cleanliness']>4.5)]\n",
        "gMex"
      ],
      "metadata": {
        "id": "g7W1MAi2fYja"
      },
      "execution_count": null,
      "outputs": []
    },
    {
      "cell_type": "markdown",
      "source": [
        "#### Girona"
      ],
      "metadata": {
        "id": "YQ0cpTY7fNiP"
      }
    },
    {
      "cell_type": "code",
      "source": [
        "gGir= girona[(girona['review_scores_cleanliness']>4.5)]\n",
        "gGir"
      ],
      "metadata": {
        "id": "x16PgCEOfPPw"
      },
      "execution_count": null,
      "outputs": []
    },
    {
      "cell_type": "markdown",
      "source": [
        "Este filtro nos jaló todos los Airbnbs que pueden ser considerados como 'mas limpios'"
      ],
      "metadata": {
        "id": "SwRYxzEmjJ-2"
      }
    },
    {
      "cell_type": "code",
      "source": [
        "gCali.to_csv(\"gCali.csv\")\n",
        "gMex.to_csv(\"gMex.csv\")\n",
        "gGir.to_csv(\"gGir.csv\")\n",
        "\n",
        "#files.download(\"gCali.csv\")\n",
        "#files.download(\"gMex.csv\")\n",
        "#files.download(\"gGir.csv\")"
      ],
      "metadata": {
        "id": "GRpDEr0TficU"
      },
      "execution_count": null,
      "outputs": []
    },
    {
      "cell_type": "markdown",
      "source": [
        "### h) Los registros cuyo review_scores_value > 4.9"
      ],
      "metadata": {
        "id": "j6zPEK7jHC-k"
      }
    },
    {
      "cell_type": "markdown",
      "source": [
        "#### California"
      ],
      "metadata": {
        "id": "Gbaen2O9efpB"
      }
    },
    {
      "cell_type": "code",
      "source": [
        "hCali= california[(california['review_scores_value']>4.9)]\n",
        "hCali"
      ],
      "metadata": {
        "id": "kIhTA9KgfyBf"
      },
      "execution_count": null,
      "outputs": []
    },
    {
      "cell_type": "markdown",
      "source": [
        "#### Mexico"
      ],
      "metadata": {
        "id": "zVIpvdQqftso"
      }
    },
    {
      "cell_type": "code",
      "source": [
        "hMex= df[(df['review_scores_value']>4.9)]\n",
        "hMex"
      ],
      "metadata": {
        "id": "B-9DtscvfvzJ"
      },
      "execution_count": null,
      "outputs": []
    },
    {
      "cell_type": "markdown",
      "source": [
        "#### Girona"
      ],
      "metadata": {
        "id": "nblr5wxJfuls"
      }
    },
    {
      "cell_type": "code",
      "source": [
        "hGir= girona[(girona['review_scores_value']>4.9)]\n",
        "hGir"
      ],
      "metadata": {
        "id": "rAem5orSf2R_"
      },
      "execution_count": null,
      "outputs": []
    },
    {
      "cell_type": "markdown",
      "source": [
        "En este dataframe tenemos todos los alojamientos que han recibido un score arriba de 4.9. Es decir, los mejores airbnb en general."
      ],
      "metadata": {
        "id": "eteP0N9fjPpC"
      }
    },
    {
      "cell_type": "code",
      "source": [
        "hCali.to_csv(\"hCali.csv\")\n",
        "hMex.to_csv(\"hMex.csv\")\n",
        "hGir.to_csv(\"hGir.csv\")\n",
        "\n",
        "#files.download(\"hCali.csv\")\n",
        "#files.download(\"hMex.csv\")\n",
        "#files.download(\"hGir.csv\")"
      ],
      "metadata": {
        "id": "jgLK_gmVf5AE"
      },
      "execution_count": null,
      "outputs": []
    },
    {
      "cell_type": "markdown",
      "source": [
        "### i) Los registros cuya availability_365< 100"
      ],
      "metadata": {
        "id": "94F_uUa-HFE-"
      }
    },
    {
      "cell_type": "markdown",
      "source": [
        "#### California"
      ],
      "metadata": {
        "id": "BReKng-cgg3F"
      }
    },
    {
      "cell_type": "code",
      "source": [
        "iCali= california[(california['availability_365']<100)]\n",
        "iCali"
      ],
      "metadata": {
        "id": "Rsg-6Wo9gqdp"
      },
      "execution_count": null,
      "outputs": []
    },
    {
      "cell_type": "markdown",
      "source": [
        "#### Mexico"
      ],
      "metadata": {
        "id": "6YV8W9QFgiPK"
      }
    },
    {
      "cell_type": "code",
      "source": [
        "iMex= df[(df['availability_365']<100)]\n",
        "iMex"
      ],
      "metadata": {
        "id": "zO8Tfu2AgugD"
      },
      "execution_count": null,
      "outputs": []
    },
    {
      "cell_type": "markdown",
      "source": [
        "#### Girona"
      ],
      "metadata": {
        "id": "DAdnhre_gjB8"
      }
    },
    {
      "cell_type": "code",
      "source": [
        "iGir= girona[(girona['availability_365']<100)]\n",
        "iGir"
      ],
      "metadata": {
        "id": "NSWFjFIEggOy"
      },
      "execution_count": null,
      "outputs": []
    },
    {
      "cell_type": "markdown",
      "source": [
        "Aqui tenemos datos de alojamientos que su disponibilidad todo el año tiende a ser menor de 100 días, por lo que son alojamientos altamente solicitados."
      ],
      "metadata": {
        "id": "KgIvkBy_jY9u"
      }
    },
    {
      "cell_type": "code",
      "source": [
        "iCali.to_csv(\"iCali.csv\")\n",
        "iMex.to_csv(\"iMex.csv\")\n",
        "iGir.to_csv(\"iGir.csv\")\n",
        "\n",
        "#files.download(\"iCali.csv\")\n",
        "#files.download(\"iMex.csv\")\n",
        "#files.download(\"iGir.csv\")"
      ],
      "metadata": {
        "id": "8kbXEw2UgzrN"
      },
      "execution_count": null,
      "outputs": []
    },
    {
      "cell_type": "markdown",
      "source": [
        "### j) Los registros cuya host_response_time sea “within an hour”"
      ],
      "metadata": {
        "id": "Q0aZIoekHHHE"
      }
    },
    {
      "cell_type": "markdown",
      "source": [
        "#### California"
      ],
      "metadata": {
        "id": "FWTKIDUjg8sO"
      }
    },
    {
      "cell_type": "code",
      "source": [
        "jCali= california[(california['host_response_time']=='within an hour')]\n",
        "jCali"
      ],
      "metadata": {
        "id": "AdJQu10ihMeW"
      },
      "execution_count": null,
      "outputs": []
    },
    {
      "cell_type": "markdown",
      "source": [
        "#### Mexico"
      ],
      "metadata": {
        "id": "imyALh6Lg9iz"
      }
    },
    {
      "cell_type": "code",
      "source": [
        "jMex= df[(df['host_response_time']=='within an hour')]\n",
        "jMex"
      ],
      "metadata": {
        "id": "Q6i451lmhNEV"
      },
      "execution_count": null,
      "outputs": []
    },
    {
      "cell_type": "markdown",
      "source": [
        "#### Girona"
      ],
      "metadata": {
        "id": "CHWujtEuhDfb"
      }
    },
    {
      "cell_type": "code",
      "source": [
        "jGir= girona[(girona['host_response_time']=='within an hour')]\n",
        "jGir"
      ],
      "metadata": {
        "id": "BjE365ZVg3pr"
      },
      "execution_count": null,
      "outputs": []
    },
    {
      "cell_type": "markdown",
      "source": [
        "Finalmente, en este dataframe estan los datos de los host que contestan al rededor de una hora. Es decir están al pendiente de su inquilino."
      ],
      "metadata": {
        "id": "7J3jVKnRjhlo"
      }
    },
    {
      "cell_type": "code",
      "source": [
        "jCali.to_csv(\"jCali.csv\")\n",
        "jMex.to_csv(\"jMex.csv\")\n",
        "jGir.to_csv(\"jGir.csv\")\n",
        "\n",
        "#files.download(\"jCali.csv\")\n",
        "#files.download(\"jMex.csv\")\n",
        "#files.download(\"jGir.csv\")"
      ],
      "metadata": {
        "id": "BPCtjakuhW9q"
      },
      "execution_count": null,
      "outputs": []
    },
    {
      "cell_type": "markdown",
      "source": [
        "## ETAPA 3: Extracción de Características y Visualización de DATOS"
      ],
      "metadata": {
        "id": "DTZ0q7_roh2_"
      }
    },
    {
      "cell_type": "markdown",
      "source": [
        "### a) host_response_time "
      ],
      "metadata": {
        "id": "-tWDr7L9o5gb"
      }
    },
    {
      "cell_type": "code",
      "source": [
        "Cali_tabla1= freq_tbl(california['host_response_time'])\n",
        "Cali_tabla1_index= Cali_tabla1.set_index('host_response_time')\n",
        "#tabla1\n",
        "Cali_tabla1_index"
      ],
      "metadata": {
        "colab": {
          "base_uri": "https://localhost:8080/",
          "height": 206
        },
        "id": "HoABHMUOo-oG",
        "outputId": "b3291420-df17-4447-b118-41f49954676b"
      },
      "execution_count": 134,
      "outputs": [
        {
          "output_type": "execute_result",
          "data": {
            "text/plain": [
              "                    frequency  percentage  cumulative_perc\n",
              "host_response_time                                        \n",
              "within an hour           4919    0.709198         0.709198\n",
              "within a few hours       1309    0.188725         0.897924\n",
              "within a day              530    0.076413         0.974337\n",
              "a few days or more        178    0.025663         1.000000"
            ],
            "text/html": [
              "\n",
              "  <div id=\"df-a3aa8536-c792-41df-a9a4-180af4439a8c\">\n",
              "    <div class=\"colab-df-container\">\n",
              "      <div>\n",
              "<style scoped>\n",
              "    .dataframe tbody tr th:only-of-type {\n",
              "        vertical-align: middle;\n",
              "    }\n",
              "\n",
              "    .dataframe tbody tr th {\n",
              "        vertical-align: top;\n",
              "    }\n",
              "\n",
              "    .dataframe thead th {\n",
              "        text-align: right;\n",
              "    }\n",
              "</style>\n",
              "<table border=\"1\" class=\"dataframe\">\n",
              "  <thead>\n",
              "    <tr style=\"text-align: right;\">\n",
              "      <th></th>\n",
              "      <th>frequency</th>\n",
              "      <th>percentage</th>\n",
              "      <th>cumulative_perc</th>\n",
              "    </tr>\n",
              "    <tr>\n",
              "      <th>host_response_time</th>\n",
              "      <th></th>\n",
              "      <th></th>\n",
              "      <th></th>\n",
              "    </tr>\n",
              "  </thead>\n",
              "  <tbody>\n",
              "    <tr>\n",
              "      <th>within an hour</th>\n",
              "      <td>4919</td>\n",
              "      <td>0.709198</td>\n",
              "      <td>0.709198</td>\n",
              "    </tr>\n",
              "    <tr>\n",
              "      <th>within a few hours</th>\n",
              "      <td>1309</td>\n",
              "      <td>0.188725</td>\n",
              "      <td>0.897924</td>\n",
              "    </tr>\n",
              "    <tr>\n",
              "      <th>within a day</th>\n",
              "      <td>530</td>\n",
              "      <td>0.076413</td>\n",
              "      <td>0.974337</td>\n",
              "    </tr>\n",
              "    <tr>\n",
              "      <th>a few days or more</th>\n",
              "      <td>178</td>\n",
              "      <td>0.025663</td>\n",
              "      <td>1.000000</td>\n",
              "    </tr>\n",
              "  </tbody>\n",
              "</table>\n",
              "</div>\n",
              "      <button class=\"colab-df-convert\" onclick=\"convertToInteractive('df-a3aa8536-c792-41df-a9a4-180af4439a8c')\"\n",
              "              title=\"Convert this dataframe to an interactive table.\"\n",
              "              style=\"display:none;\">\n",
              "        \n",
              "  <svg xmlns=\"http://www.w3.org/2000/svg\" height=\"24px\"viewBox=\"0 0 24 24\"\n",
              "       width=\"24px\">\n",
              "    <path d=\"M0 0h24v24H0V0z\" fill=\"none\"/>\n",
              "    <path d=\"M18.56 5.44l.94 2.06.94-2.06 2.06-.94-2.06-.94-.94-2.06-.94 2.06-2.06.94zm-11 1L8.5 8.5l.94-2.06 2.06-.94-2.06-.94L8.5 2.5l-.94 2.06-2.06.94zm10 10l.94 2.06.94-2.06 2.06-.94-2.06-.94-.94-2.06-.94 2.06-2.06.94z\"/><path d=\"M17.41 7.96l-1.37-1.37c-.4-.4-.92-.59-1.43-.59-.52 0-1.04.2-1.43.59L10.3 9.45l-7.72 7.72c-.78.78-.78 2.05 0 2.83L4 21.41c.39.39.9.59 1.41.59.51 0 1.02-.2 1.41-.59l7.78-7.78 2.81-2.81c.8-.78.8-2.07 0-2.86zM5.41 20L4 18.59l7.72-7.72 1.47 1.35L5.41 20z\"/>\n",
              "  </svg>\n",
              "      </button>\n",
              "      \n",
              "  <style>\n",
              "    .colab-df-container {\n",
              "      display:flex;\n",
              "      flex-wrap:wrap;\n",
              "      gap: 12px;\n",
              "    }\n",
              "\n",
              "    .colab-df-convert {\n",
              "      background-color: #E8F0FE;\n",
              "      border: none;\n",
              "      border-radius: 50%;\n",
              "      cursor: pointer;\n",
              "      display: none;\n",
              "      fill: #1967D2;\n",
              "      height: 32px;\n",
              "      padding: 0 0 0 0;\n",
              "      width: 32px;\n",
              "    }\n",
              "\n",
              "    .colab-df-convert:hover {\n",
              "      background-color: #E2EBFA;\n",
              "      box-shadow: 0px 1px 2px rgba(60, 64, 67, 0.3), 0px 1px 3px 1px rgba(60, 64, 67, 0.15);\n",
              "      fill: #174EA6;\n",
              "    }\n",
              "\n",
              "    [theme=dark] .colab-df-convert {\n",
              "      background-color: #3B4455;\n",
              "      fill: #D2E3FC;\n",
              "    }\n",
              "\n",
              "    [theme=dark] .colab-df-convert:hover {\n",
              "      background-color: #434B5C;\n",
              "      box-shadow: 0px 1px 3px 1px rgba(0, 0, 0, 0.15);\n",
              "      filter: drop-shadow(0px 1px 2px rgba(0, 0, 0, 0.3));\n",
              "      fill: #FFFFFF;\n",
              "    }\n",
              "  </style>\n",
              "\n",
              "      <script>\n",
              "        const buttonEl =\n",
              "          document.querySelector('#df-a3aa8536-c792-41df-a9a4-180af4439a8c button.colab-df-convert');\n",
              "        buttonEl.style.display =\n",
              "          google.colab.kernel.accessAllowed ? 'block' : 'none';\n",
              "\n",
              "        async function convertToInteractive(key) {\n",
              "          const element = document.querySelector('#df-a3aa8536-c792-41df-a9a4-180af4439a8c');\n",
              "          const dataTable =\n",
              "            await google.colab.kernel.invokeFunction('convertToInteractive',\n",
              "                                                     [key], {});\n",
              "          if (!dataTable) return;\n",
              "\n",
              "          const docLinkHtml = 'Like what you see? Visit the ' +\n",
              "            '<a target=\"_blank\" href=https://colab.research.google.com/notebooks/data_table.ipynb>data table notebook</a>'\n",
              "            + ' to learn more about interactive tables.';\n",
              "          element.innerHTML = '';\n",
              "          dataTable['output_type'] = 'display_data';\n",
              "          await google.colab.output.renderOutput(dataTable, element);\n",
              "          const docLink = document.createElement('div');\n",
              "          docLink.innerHTML = docLinkHtml;\n",
              "          element.appendChild(docLink);\n",
              "        }\n",
              "      </script>\n",
              "    </div>\n",
              "  </div>\n",
              "  "
            ]
          },
          "metadata": {},
          "execution_count": 134
        }
      ]
    },
    {
      "cell_type": "code",
      "source": [
        "Mex_tabla1= freq_tbl(df['host_response_time'])\n",
        "Mex_tabla1_index= Mex_tabla1.set_index('host_response_time')\n",
        "#tabla1\n",
        "Mex_tabla1_index"
      ],
      "metadata": {
        "colab": {
          "base_uri": "https://localhost:8080/",
          "height": 238
        },
        "id": "IFII9eqjqArU",
        "outputId": "78b29da0-439c-4346-f674-db7462994054"
      },
      "execution_count": 135,
      "outputs": [
        {
          "output_type": "execute_result",
          "data": {
            "text/plain": [
              "                    frequency  percentage  cumulative_perc\n",
              "host_response_time                                        \n",
              "within an hour          19441    0.802551         0.802551\n",
              "within a few hours       2283    0.094245         0.896797\n",
              "within a day             1662    0.068610         0.965406\n",
              "a few days or more        837    0.034553         0.999959\n",
              "--                          1    0.000041         1.000000"
            ],
            "text/html": [
              "\n",
              "  <div id=\"df-db4a7d77-fd46-478b-b863-4853089c0353\">\n",
              "    <div class=\"colab-df-container\">\n",
              "      <div>\n",
              "<style scoped>\n",
              "    .dataframe tbody tr th:only-of-type {\n",
              "        vertical-align: middle;\n",
              "    }\n",
              "\n",
              "    .dataframe tbody tr th {\n",
              "        vertical-align: top;\n",
              "    }\n",
              "\n",
              "    .dataframe thead th {\n",
              "        text-align: right;\n",
              "    }\n",
              "</style>\n",
              "<table border=\"1\" class=\"dataframe\">\n",
              "  <thead>\n",
              "    <tr style=\"text-align: right;\">\n",
              "      <th></th>\n",
              "      <th>frequency</th>\n",
              "      <th>percentage</th>\n",
              "      <th>cumulative_perc</th>\n",
              "    </tr>\n",
              "    <tr>\n",
              "      <th>host_response_time</th>\n",
              "      <th></th>\n",
              "      <th></th>\n",
              "      <th></th>\n",
              "    </tr>\n",
              "  </thead>\n",
              "  <tbody>\n",
              "    <tr>\n",
              "      <th>within an hour</th>\n",
              "      <td>19441</td>\n",
              "      <td>0.802551</td>\n",
              "      <td>0.802551</td>\n",
              "    </tr>\n",
              "    <tr>\n",
              "      <th>within a few hours</th>\n",
              "      <td>2283</td>\n",
              "      <td>0.094245</td>\n",
              "      <td>0.896797</td>\n",
              "    </tr>\n",
              "    <tr>\n",
              "      <th>within a day</th>\n",
              "      <td>1662</td>\n",
              "      <td>0.068610</td>\n",
              "      <td>0.965406</td>\n",
              "    </tr>\n",
              "    <tr>\n",
              "      <th>a few days or more</th>\n",
              "      <td>837</td>\n",
              "      <td>0.034553</td>\n",
              "      <td>0.999959</td>\n",
              "    </tr>\n",
              "    <tr>\n",
              "      <th>--</th>\n",
              "      <td>1</td>\n",
              "      <td>0.000041</td>\n",
              "      <td>1.000000</td>\n",
              "    </tr>\n",
              "  </tbody>\n",
              "</table>\n",
              "</div>\n",
              "      <button class=\"colab-df-convert\" onclick=\"convertToInteractive('df-db4a7d77-fd46-478b-b863-4853089c0353')\"\n",
              "              title=\"Convert this dataframe to an interactive table.\"\n",
              "              style=\"display:none;\">\n",
              "        \n",
              "  <svg xmlns=\"http://www.w3.org/2000/svg\" height=\"24px\"viewBox=\"0 0 24 24\"\n",
              "       width=\"24px\">\n",
              "    <path d=\"M0 0h24v24H0V0z\" fill=\"none\"/>\n",
              "    <path d=\"M18.56 5.44l.94 2.06.94-2.06 2.06-.94-2.06-.94-.94-2.06-.94 2.06-2.06.94zm-11 1L8.5 8.5l.94-2.06 2.06-.94-2.06-.94L8.5 2.5l-.94 2.06-2.06.94zm10 10l.94 2.06.94-2.06 2.06-.94-2.06-.94-.94-2.06-.94 2.06-2.06.94z\"/><path d=\"M17.41 7.96l-1.37-1.37c-.4-.4-.92-.59-1.43-.59-.52 0-1.04.2-1.43.59L10.3 9.45l-7.72 7.72c-.78.78-.78 2.05 0 2.83L4 21.41c.39.39.9.59 1.41.59.51 0 1.02-.2 1.41-.59l7.78-7.78 2.81-2.81c.8-.78.8-2.07 0-2.86zM5.41 20L4 18.59l7.72-7.72 1.47 1.35L5.41 20z\"/>\n",
              "  </svg>\n",
              "      </button>\n",
              "      \n",
              "  <style>\n",
              "    .colab-df-container {\n",
              "      display:flex;\n",
              "      flex-wrap:wrap;\n",
              "      gap: 12px;\n",
              "    }\n",
              "\n",
              "    .colab-df-convert {\n",
              "      background-color: #E8F0FE;\n",
              "      border: none;\n",
              "      border-radius: 50%;\n",
              "      cursor: pointer;\n",
              "      display: none;\n",
              "      fill: #1967D2;\n",
              "      height: 32px;\n",
              "      padding: 0 0 0 0;\n",
              "      width: 32px;\n",
              "    }\n",
              "\n",
              "    .colab-df-convert:hover {\n",
              "      background-color: #E2EBFA;\n",
              "      box-shadow: 0px 1px 2px rgba(60, 64, 67, 0.3), 0px 1px 3px 1px rgba(60, 64, 67, 0.15);\n",
              "      fill: #174EA6;\n",
              "    }\n",
              "\n",
              "    [theme=dark] .colab-df-convert {\n",
              "      background-color: #3B4455;\n",
              "      fill: #D2E3FC;\n",
              "    }\n",
              "\n",
              "    [theme=dark] .colab-df-convert:hover {\n",
              "      background-color: #434B5C;\n",
              "      box-shadow: 0px 1px 3px 1px rgba(0, 0, 0, 0.15);\n",
              "      filter: drop-shadow(0px 1px 2px rgba(0, 0, 0, 0.3));\n",
              "      fill: #FFFFFF;\n",
              "    }\n",
              "  </style>\n",
              "\n",
              "      <script>\n",
              "        const buttonEl =\n",
              "          document.querySelector('#df-db4a7d77-fd46-478b-b863-4853089c0353 button.colab-df-convert');\n",
              "        buttonEl.style.display =\n",
              "          google.colab.kernel.accessAllowed ? 'block' : 'none';\n",
              "\n",
              "        async function convertToInteractive(key) {\n",
              "          const element = document.querySelector('#df-db4a7d77-fd46-478b-b863-4853089c0353');\n",
              "          const dataTable =\n",
              "            await google.colab.kernel.invokeFunction('convertToInteractive',\n",
              "                                                     [key], {});\n",
              "          if (!dataTable) return;\n",
              "\n",
              "          const docLinkHtml = 'Like what you see? Visit the ' +\n",
              "            '<a target=\"_blank\" href=https://colab.research.google.com/notebooks/data_table.ipynb>data table notebook</a>'\n",
              "            + ' to learn more about interactive tables.';\n",
              "          element.innerHTML = '';\n",
              "          dataTable['output_type'] = 'display_data';\n",
              "          await google.colab.output.renderOutput(dataTable, element);\n",
              "          const docLink = document.createElement('div');\n",
              "          docLink.innerHTML = docLinkHtml;\n",
              "          element.appendChild(docLink);\n",
              "        }\n",
              "      </script>\n",
              "    </div>\n",
              "  </div>\n",
              "  "
            ]
          },
          "metadata": {},
          "execution_count": 135
        }
      ]
    },
    {
      "cell_type": "code",
      "source": [
        "Gir_tabla1= freq_tbl(girona['host_response_time'])\n",
        "Gir_tabla1_index= Gir_tabla1.set_index('host_response_time')\n",
        "#tabla1\n",
        "Gir_tabla1_index"
      ],
      "metadata": {
        "colab": {
          "base_uri": "https://localhost:8080/",
          "height": 206
        },
        "id": "oPd7SMCSpwid",
        "outputId": "fd89631f-ece9-46a6-a192-e316570d2af9"
      },
      "execution_count": 136,
      "outputs": [
        {
          "output_type": "execute_result",
          "data": {
            "text/plain": [
              "                    frequency  percentage  cumulative_perc\n",
              "host_response_time                                        \n",
              "within an hour          13721    0.698092         0.698092\n",
              "within a few hours       3041    0.154719         0.852811\n",
              "within a day             2426    0.123429         0.976240\n",
              "a few days or more        467    0.023760         1.000000"
            ],
            "text/html": [
              "\n",
              "  <div id=\"df-7b98044d-90b3-40a4-ae12-a14037b01184\">\n",
              "    <div class=\"colab-df-container\">\n",
              "      <div>\n",
              "<style scoped>\n",
              "    .dataframe tbody tr th:only-of-type {\n",
              "        vertical-align: middle;\n",
              "    }\n",
              "\n",
              "    .dataframe tbody tr th {\n",
              "        vertical-align: top;\n",
              "    }\n",
              "\n",
              "    .dataframe thead th {\n",
              "        text-align: right;\n",
              "    }\n",
              "</style>\n",
              "<table border=\"1\" class=\"dataframe\">\n",
              "  <thead>\n",
              "    <tr style=\"text-align: right;\">\n",
              "      <th></th>\n",
              "      <th>frequency</th>\n",
              "      <th>percentage</th>\n",
              "      <th>cumulative_perc</th>\n",
              "    </tr>\n",
              "    <tr>\n",
              "      <th>host_response_time</th>\n",
              "      <th></th>\n",
              "      <th></th>\n",
              "      <th></th>\n",
              "    </tr>\n",
              "  </thead>\n",
              "  <tbody>\n",
              "    <tr>\n",
              "      <th>within an hour</th>\n",
              "      <td>13721</td>\n",
              "      <td>0.698092</td>\n",
              "      <td>0.698092</td>\n",
              "    </tr>\n",
              "    <tr>\n",
              "      <th>within a few hours</th>\n",
              "      <td>3041</td>\n",
              "      <td>0.154719</td>\n",
              "      <td>0.852811</td>\n",
              "    </tr>\n",
              "    <tr>\n",
              "      <th>within a day</th>\n",
              "      <td>2426</td>\n",
              "      <td>0.123429</td>\n",
              "      <td>0.976240</td>\n",
              "    </tr>\n",
              "    <tr>\n",
              "      <th>a few days or more</th>\n",
              "      <td>467</td>\n",
              "      <td>0.023760</td>\n",
              "      <td>1.000000</td>\n",
              "    </tr>\n",
              "  </tbody>\n",
              "</table>\n",
              "</div>\n",
              "      <button class=\"colab-df-convert\" onclick=\"convertToInteractive('df-7b98044d-90b3-40a4-ae12-a14037b01184')\"\n",
              "              title=\"Convert this dataframe to an interactive table.\"\n",
              "              style=\"display:none;\">\n",
              "        \n",
              "  <svg xmlns=\"http://www.w3.org/2000/svg\" height=\"24px\"viewBox=\"0 0 24 24\"\n",
              "       width=\"24px\">\n",
              "    <path d=\"M0 0h24v24H0V0z\" fill=\"none\"/>\n",
              "    <path d=\"M18.56 5.44l.94 2.06.94-2.06 2.06-.94-2.06-.94-.94-2.06-.94 2.06-2.06.94zm-11 1L8.5 8.5l.94-2.06 2.06-.94-2.06-.94L8.5 2.5l-.94 2.06-2.06.94zm10 10l.94 2.06.94-2.06 2.06-.94-2.06-.94-.94-2.06-.94 2.06-2.06.94z\"/><path d=\"M17.41 7.96l-1.37-1.37c-.4-.4-.92-.59-1.43-.59-.52 0-1.04.2-1.43.59L10.3 9.45l-7.72 7.72c-.78.78-.78 2.05 0 2.83L4 21.41c.39.39.9.59 1.41.59.51 0 1.02-.2 1.41-.59l7.78-7.78 2.81-2.81c.8-.78.8-2.07 0-2.86zM5.41 20L4 18.59l7.72-7.72 1.47 1.35L5.41 20z\"/>\n",
              "  </svg>\n",
              "      </button>\n",
              "      \n",
              "  <style>\n",
              "    .colab-df-container {\n",
              "      display:flex;\n",
              "      flex-wrap:wrap;\n",
              "      gap: 12px;\n",
              "    }\n",
              "\n",
              "    .colab-df-convert {\n",
              "      background-color: #E8F0FE;\n",
              "      border: none;\n",
              "      border-radius: 50%;\n",
              "      cursor: pointer;\n",
              "      display: none;\n",
              "      fill: #1967D2;\n",
              "      height: 32px;\n",
              "      padding: 0 0 0 0;\n",
              "      width: 32px;\n",
              "    }\n",
              "\n",
              "    .colab-df-convert:hover {\n",
              "      background-color: #E2EBFA;\n",
              "      box-shadow: 0px 1px 2px rgba(60, 64, 67, 0.3), 0px 1px 3px 1px rgba(60, 64, 67, 0.15);\n",
              "      fill: #174EA6;\n",
              "    }\n",
              "\n",
              "    [theme=dark] .colab-df-convert {\n",
              "      background-color: #3B4455;\n",
              "      fill: #D2E3FC;\n",
              "    }\n",
              "\n",
              "    [theme=dark] .colab-df-convert:hover {\n",
              "      background-color: #434B5C;\n",
              "      box-shadow: 0px 1px 3px 1px rgba(0, 0, 0, 0.15);\n",
              "      filter: drop-shadow(0px 1px 2px rgba(0, 0, 0, 0.3));\n",
              "      fill: #FFFFFF;\n",
              "    }\n",
              "  </style>\n",
              "\n",
              "      <script>\n",
              "        const buttonEl =\n",
              "          document.querySelector('#df-7b98044d-90b3-40a4-ae12-a14037b01184 button.colab-df-convert');\n",
              "        buttonEl.style.display =\n",
              "          google.colab.kernel.accessAllowed ? 'block' : 'none';\n",
              "\n",
              "        async function convertToInteractive(key) {\n",
              "          const element = document.querySelector('#df-7b98044d-90b3-40a4-ae12-a14037b01184');\n",
              "          const dataTable =\n",
              "            await google.colab.kernel.invokeFunction('convertToInteractive',\n",
              "                                                     [key], {});\n",
              "          if (!dataTable) return;\n",
              "\n",
              "          const docLinkHtml = 'Like what you see? Visit the ' +\n",
              "            '<a target=\"_blank\" href=https://colab.research.google.com/notebooks/data_table.ipynb>data table notebook</a>'\n",
              "            + ' to learn more about interactive tables.';\n",
              "          element.innerHTML = '';\n",
              "          dataTable['output_type'] = 'display_data';\n",
              "          await google.colab.output.renderOutput(dataTable, element);\n",
              "          const docLink = document.createElement('div');\n",
              "          docLink.innerHTML = docLinkHtml;\n",
              "          element.appendChild(docLink);\n",
              "        }\n",
              "      </script>\n",
              "    </div>\n",
              "  </div>\n",
              "  "
            ]
          },
          "metadata": {},
          "execution_count": 136
        }
      ]
    },
    {
      "cell_type": "code",
      "source": [
        "Cali_tabla1_index['frequency'].plot(kind='pie', figsize=(10,5), autopct=\"%0.1f %%\")\n",
        "plt.title('Tiempo de respuesta del Host en California')"
      ],
      "metadata": {
        "colab": {
          "base_uri": "https://localhost:8080/",
          "height": 461
        },
        "id": "JsHHRkJ6qKqh",
        "outputId": "a419514e-3cc3-4371-f0d4-5e394c20607f"
      },
      "execution_count": 137,
      "outputs": [
        {
          "output_type": "execute_result",
          "data": {
            "text/plain": [
              "Text(0.5, 1.0, 'Tiempo de respuesta del Host en California')"
            ]
          },
          "metadata": {},
          "execution_count": 137
        },
        {
          "output_type": "display_data",
          "data": {
            "text/plain": [
              "<Figure size 1000x500 with 1 Axes>"
            ],
            "image/png": "[encoded data removed]"
          },
          "metadata": {}
        }
      ]
    },
    {
      "cell_type": "code",
      "source": [
        "Mex_tabla1_index['frequency'].plot(kind='pie', figsize=(10,5), autopct=\"%0.1f %%\")\n",
        "plt.title('Tiempo de respuesta del Host en el DF')"
      ],
      "metadata": {
        "colab": {
          "base_uri": "https://localhost:8080/",
          "height": 461
        },
        "id": "ZRRqu00SqPn6",
        "outputId": "79ae64ed-cecf-429d-8458-4c36ccc70841"
      },
      "execution_count": 138,
      "outputs": [
        {
          "output_type": "execute_result",
          "data": {
            "text/plain": [
              "Text(0.5, 1.0, 'Tiempo de respuesta del Host en el DF')"
            ]
          },
          "metadata": {},
          "execution_count": 138
        },
        {
          "output_type": "display_data",
          "data": {
            "text/plain": [
              "<Figure size 1000x500 with 1 Axes>"
            ],
            "image/png": "[encoded data removed]"
          },
          "metadata": {}
        }
      ]
    },
    {
      "cell_type": "code",
      "source": [
        "Gir_tabla1_index['frequency'].plot(kind='pie', figsize=(10,5), autopct=\"%0.1f %%\")\n",
        "plt.title('Tiempo de respuesta del Host en Girona')"
      ],
      "metadata": {
        "colab": {
          "base_uri": "https://localhost:8080/",
          "height": 461
        },
        "id": "vVWkSFiVqTX0",
        "outputId": "fe8602a7-1cf4-405d-b177-dbc57b72432b"
      },
      "execution_count": 139,
      "outputs": [
        {
          "output_type": "execute_result",
          "data": {
            "text/plain": [
              "Text(0.5, 1.0, 'Tiempo de respuesta del Host en Girona')"
            ]
          },
          "metadata": {},
          "execution_count": 139
        },
        {
          "output_type": "display_data",
          "data": {
            "text/plain": [
              "<Figure size 1000x500 with 1 Axes>"
            ],
            "image/png": "[encoded data removed]"
          },
          "metadata": {}
        }
      ]
    },
    {
      "cell_type": "markdown",
      "source": [
        "### i) review_scores_location"
      ],
      "metadata": {
        "id": "zLOtxyrNqzYF"
      }
    },
    {
      "cell_type": "code",
      "source": [
        "scores = california['review_scores_location']\n",
        "range = [3,3.5,3.75,4,4.25,4.5,4.75,5,5.25,5.5]\n",
        "plt.hist(scores, bins=range, edgecolor='black', color = 'yellow')\n",
        "\n",
        "plt.xlabel('Review Scores Location')\n",
        "plt.ylabel('Rango')\n",
        "plt.title('Gráfica de los valores de calificación en California')\n",
        "\n",
        "plt.show()"
      ],
      "metadata": {
        "colab": {
          "base_uri": "https://localhost:8080/",
          "height": 472
        },
        "id": "UBccTDTBrLK3",
        "outputId": "61c508ad-2128-4a55-8951-b9ec5b901510"
      },
      "execution_count": 140,
      "outputs": [
        {
          "output_type": "display_data",
          "data": {
            "text/plain": [
              "<Figure size 640x480 with 1 Axes>"
            ],
            "image/png": "[encoded data removed]"
          },
          "metadata": {}
        }
      ]
    },
    {
      "cell_type": "code",
      "source": [
        "scores = df['review_scores_location']\n",
        "range = [3,3.5,3.75,4,4.25,4.5,4.75,5,5.25,5.5]\n",
        "plt.hist(scores, bins=range, edgecolor='black', color = 'green')\n",
        "\n",
        "plt.xlabel('Review Scores Location')\n",
        "plt.ylabel('Rango')\n",
        "plt.title('Gráfica de los valores de calificación en el DF')\n",
        "\n",
        "plt.show()"
      ],
      "metadata": {
        "colab": {
          "base_uri": "https://localhost:8080/",
          "height": 472
        },
        "id": "5hUmGj8ZwH4c",
        "outputId": "a7efbe5c-b4ca-495d-951f-7c8b65701923"
      },
      "execution_count": 141,
      "outputs": [
        {
          "output_type": "display_data",
          "data": {
            "text/plain": [
              "<Figure size 640x480 with 1 Axes>"
            ],
            "image/png": "[encoded data removed]"
          },
          "metadata": {}
        }
      ]
    },
    {
      "cell_type": "code",
      "source": [
        "scores = girona['review_scores_location']\n",
        "range = [3,3.5,3.75,4,4.25,4.5,4.75,5,5.25,5.5]\n",
        "plt.hist(scores, bins=range, edgecolor='black', color = 'red')\n",
        "\n",
        "plt.xlabel('Review Scores Location')\n",
        "plt.ylabel('Rango')\n",
        "plt.title('Gráfica de los valores de calificación en Girona')\n",
        "\n",
        "plt.show()"
      ],
      "metadata": {
        "colab": {
          "base_uri": "https://localhost:8080/",
          "height": 472
        },
        "id": "0xAvRxGYwIY2",
        "outputId": "5f94154e-9ff4-4232-fed4-df2cd6679660"
      },
      "execution_count": 142,
      "outputs": [
        {
          "output_type": "display_data",
          "data": {
            "text/plain": [
              "<Figure size 640x480 with 1 Axes>"
            ],
            "image/png": "[encoded data removed]"
          },
          "metadata": {}
        }
      ]
    },
    {
      "cell_type": "markdown",
      "source": [
        "### c) host_identity_verified"
      ],
      "metadata": {
        "id": "WOEzTAyKq95R"
      }
    },
    {
      "cell_type": "code",
      "source": [
        "Cali_tabla3= freq_tbl(california['host_identity_verified'])\n",
        "Cali_tabla3_index= Cali_tabla3.set_index('host_identity_verified')\n",
        "#tabla3\n",
        "Cali_tabla3_index"
      ],
      "metadata": {
        "colab": {
          "base_uri": "https://localhost:8080/",
          "height": 143
        },
        "id": "y4FMm3UwrN8u",
        "outputId": "3b150f41-3377-4b70-e3c7-47a45b6cbe36"
      },
      "execution_count": 143,
      "outputs": [
        {
          "output_type": "execute_result",
          "data": {
            "text/plain": [
              "                        frequency  percentage  cumulative_perc\n",
              "host_identity_verified                                        \n",
              "t                            6106    0.880334         0.880334\n",
              "f                             830    0.119666         1.000000"
            ],
            "text/html": [
              "\n",
              "  <div id=\"df-3685550e-93d0-4bec-ad5e-375553ac8571\">\n",
              "    <div class=\"colab-df-container\">\n",
              "      <div>\n",
              "<style scoped>\n",
              "    .dataframe tbody tr th:only-of-type {\n",
              "        vertical-align: middle;\n",
              "    }\n",
              "\n",
              "    .dataframe tbody tr th {\n",
              "        vertical-align: top;\n",
              "    }\n",
              "\n",
              "    .dataframe thead th {\n",
              "        text-align: right;\n",
              "    }\n",
              "</style>\n",
              "<table border=\"1\" class=\"dataframe\">\n",
              "  <thead>\n",
              "    <tr style=\"text-align: right;\">\n",
              "      <th></th>\n",
              "      <th>frequency</th>\n",
              "      <th>percentage</th>\n",
              "      <th>cumulative_perc</th>\n",
              "    </tr>\n",
              "    <tr>\n",
              "      <th>host_identity_verified</th>\n",
              "      <th></th>\n",
              "      <th></th>\n",
              "      <th></th>\n",
              "    </tr>\n",
              "  </thead>\n",
              "  <tbody>\n",
              "    <tr>\n",
              "      <th>t</th>\n",
              "      <td>6106</td>\n",
              "      <td>0.880334</td>\n",
              "      <td>0.880334</td>\n",
              "    </tr>\n",
              "    <tr>\n",
              "      <th>f</th>\n",
              "      <td>830</td>\n",
              "      <td>0.119666</td>\n",
              "      <td>1.000000</td>\n",
              "    </tr>\n",
              "  </tbody>\n",
              "</table>\n",
              "</div>\n",
              "      <button class=\"colab-df-convert\" onclick=\"convertToInteractive('df-3685550e-93d0-4bec-ad5e-375553ac8571')\"\n",
              "              title=\"Convert this dataframe to an interactive table.\"\n",
              "              style=\"display:none;\">\n",
              "        \n",
              "  <svg xmlns=\"http://www.w3.org/2000/svg\" height=\"24px\"viewBox=\"0 0 24 24\"\n",
              "       width=\"24px\">\n",
              "    <path d=\"M0 0h24v24H0V0z\" fill=\"none\"/>\n",
              "    <path d=\"M18.56 5.44l.94 2.06.94-2.06 2.06-.94-2.06-.94-.94-2.06-.94 2.06-2.06.94zm-11 1L8.5 8.5l.94-2.06 2.06-.94-2.06-.94L8.5 2.5l-.94 2.06-2.06.94zm10 10l.94 2.06.94-2.06 2.06-.94-2.06-.94-.94-2.06-.94 2.06-2.06.94z\"/><path d=\"M17.41 7.96l-1.37-1.37c-.4-.4-.92-.59-1.43-.59-.52 0-1.04.2-1.43.59L10.3 9.45l-7.72 7.72c-.78.78-.78 2.05 0 2.83L4 21.41c.39.39.9.59 1.41.59.51 0 1.02-.2 1.41-.59l7.78-7.78 2.81-2.81c.8-.78.8-2.07 0-2.86zM5.41 20L4 18.59l7.72-7.72 1.47 1.35L5.41 20z\"/>\n",
              "  </svg>\n",
              "      </button>\n",
              "      \n",
              "  <style>\n",
              "    .colab-df-container {\n",
              "      display:flex;\n",
              "      flex-wrap:wrap;\n",
              "      gap: 12px;\n",
              "    }\n",
              "\n",
              "    .colab-df-convert {\n",
              "      background-color: #E8F0FE;\n",
              "      border: none;\n",
              "      border-radius: 50%;\n",
              "      cursor: pointer;\n",
              "      display: none;\n",
              "      fill: #1967D2;\n",
              "      height: 32px;\n",
              "      padding: 0 0 0 0;\n",
              "      width: 32px;\n",
              "    }\n",
              "\n",
              "    .colab-df-convert:hover {\n",
              "      background-color: #E2EBFA;\n",
              "      box-shadow: 0px 1px 2px rgba(60, 64, 67, 0.3), 0px 1px 3px 1px rgba(60, 64, 67, 0.15);\n",
              "      fill: #174EA6;\n",
              "    }\n",
              "\n",
              "    [theme=dark] .colab-df-convert {\n",
              "      background-color: #3B4455;\n",
              "      fill: #D2E3FC;\n",
              "    }\n",
              "\n",
              "    [theme=dark] .colab-df-convert:hover {\n",
              "      background-color: #434B5C;\n",
              "      box-shadow: 0px 1px 3px 1px rgba(0, 0, 0, 0.15);\n",
              "      filter: drop-shadow(0px 1px 2px rgba(0, 0, 0, 0.3));\n",
              "      fill: #FFFFFF;\n",
              "    }\n",
              "  </style>\n",
              "\n",
              "      <script>\n",
              "        const buttonEl =\n",
              "          document.querySelector('#df-3685550e-93d0-4bec-ad5e-375553ac8571 button.colab-df-convert');\n",
              "        buttonEl.style.display =\n",
              "          google.colab.kernel.accessAllowed ? 'block' : 'none';\n",
              "\n",
              "        async function convertToInteractive(key) {\n",
              "          const element = document.querySelector('#df-3685550e-93d0-4bec-ad5e-375553ac8571');\n",
              "          const dataTable =\n",
              "            await google.colab.kernel.invokeFunction('convertToInteractive',\n",
              "                                                     [key], {});\n",
              "          if (!dataTable) return;\n",
              "\n",
              "          const docLinkHtml = 'Like what you see? Visit the ' +\n",
              "            '<a target=\"_blank\" href=https://colab.research.google.com/notebooks/data_table.ipynb>data table notebook</a>'\n",
              "            + ' to learn more about interactive tables.';\n",
              "          element.innerHTML = '';\n",
              "          dataTable['output_type'] = 'display_data';\n",
              "          await google.colab.output.renderOutput(dataTable, element);\n",
              "          const docLink = document.createElement('div');\n",
              "          docLink.innerHTML = docLinkHtml;\n",
              "          element.appendChild(docLink);\n",
              "        }\n",
              "      </script>\n",
              "    </div>\n",
              "  </div>\n",
              "  "
            ]
          },
          "metadata": {},
          "execution_count": 143
        }
      ]
    },
    {
      "cell_type": "code",
      "source": [
        "Mex_tabla3= freq_tbl(df['host_identity_verified'])\n",
        "Mex_tabla3_index= Mex_tabla3.set_index('host_identity_verified')\n",
        "#tabla3\n",
        "Mex_tabla3_index"
      ],
      "metadata": {
        "colab": {
          "base_uri": "https://localhost:8080/",
          "height": 143
        },
        "id": "7DeGV2LysSHc",
        "outputId": "68093183-19d4-4621-9021-252b2ad3361f"
      },
      "execution_count": 144,
      "outputs": [
        {
          "output_type": "execute_result",
          "data": {
            "text/plain": [
              "                        frequency  percentage  cumulative_perc\n",
              "host_identity_verified                                        \n",
              "t                           22301    0.920616         0.920616\n",
              "f                            1923    0.079384         1.000000"
            ],
            "text/html": [
              "\n",
              "  <div id=\"df-d87d942f-8688-4583-8b55-dfe9b859ddc3\">\n",
              "    <div class=\"colab-df-container\">\n",
              "      <div>\n",
              "<style scoped>\n",
              "    .dataframe tbody tr th:only-of-type {\n",
              "        vertical-align: middle;\n",
              "    }\n",
              "\n",
              "    .dataframe tbody tr th {\n",
              "        vertical-align: top;\n",
              "    }\n",
              "\n",
              "    .dataframe thead th {\n",
              "        text-align: right;\n",
              "    }\n",
              "</style>\n",
              "<table border=\"1\" class=\"dataframe\">\n",
              "  <thead>\n",
              "    <tr style=\"text-align: right;\">\n",
              "      <th></th>\n",
              "      <th>frequency</th>\n",
              "      <th>percentage</th>\n",
              "      <th>cumulative_perc</th>\n",
              "    </tr>\n",
              "    <tr>\n",
              "      <th>host_identity_verified</th>\n",
              "      <th></th>\n",
              "      <th></th>\n",
              "      <th></th>\n",
              "    </tr>\n",
              "  </thead>\n",
              "  <tbody>\n",
              "    <tr>\n",
              "      <th>t</th>\n",
              "      <td>22301</td>\n",
              "      <td>0.920616</td>\n",
              "      <td>0.920616</td>\n",
              "    </tr>\n",
              "    <tr>\n",
              "      <th>f</th>\n",
              "      <td>1923</td>\n",
              "      <td>0.079384</td>\n",
              "      <td>1.000000</td>\n",
              "    </tr>\n",
              "  </tbody>\n",
              "</table>\n",
              "</div>\n",
              "      <button class=\"colab-df-convert\" onclick=\"convertToInteractive('df-d87d942f-8688-4583-8b55-dfe9b859ddc3')\"\n",
              "              title=\"Convert this dataframe to an interactive table.\"\n",
              "              style=\"display:none;\">\n",
              "        \n",
              "  <svg xmlns=\"http://www.w3.org/2000/svg\" height=\"24px\"viewBox=\"0 0 24 24\"\n",
              "       width=\"24px\">\n",
              "    <path d=\"M0 0h24v24H0V0z\" fill=\"none\"/>\n",
              "    <path d=\"M18.56 5.44l.94 2.06.94-2.06 2.06-.94-2.06-.94-.94-2.06-.94 2.06-2.06.94zm-11 1L8.5 8.5l.94-2.06 2.06-.94-2.06-.94L8.5 2.5l-.94 2.06-2.06.94zm10 10l.94 2.06.94-2.06 2.06-.94-2.06-.94-.94-2.06-.94 2.06-2.06.94z\"/><path d=\"M17.41 7.96l-1.37-1.37c-.4-.4-.92-.59-1.43-.59-.52 0-1.04.2-1.43.59L10.3 9.45l-7.72 7.72c-.78.78-.78 2.05 0 2.83L4 21.41c.39.39.9.59 1.41.59.51 0 1.02-.2 1.41-.59l7.78-7.78 2.81-2.81c.8-.78.8-2.07 0-2.86zM5.41 20L4 18.59l7.72-7.72 1.47 1.35L5.41 20z\"/>\n",
              "  </svg>\n",
              "      </button>\n",
              "      \n",
              "  <style>\n",
              "    .colab-df-container {\n",
              "      display:flex;\n",
              "      flex-wrap:wrap;\n",
              "      gap: 12px;\n",
              "    }\n",
              "\n",
              "    .colab-df-convert {\n",
              "      background-color: #E8F0FE;\n",
              "      border: none;\n",
              "      border-radius: 50%;\n",
              "      cursor: pointer;\n",
              "      display: none;\n",
              "      fill: #1967D2;\n",
              "      height: 32px;\n",
              "      padding: 0 0 0 0;\n",
              "      width: 32px;\n",
              "    }\n",
              "\n",
              "    .colab-df-convert:hover {\n",
              "      background-color: #E2EBFA;\n",
              "      box-shadow: 0px 1px 2px rgba(60, 64, 67, 0.3), 0px 1px 3px 1px rgba(60, 64, 67, 0.15);\n",
              "      fill: #174EA6;\n",
              "    }\n",
              "\n",
              "    [theme=dark] .colab-df-convert {\n",
              "      background-color: #3B4455;\n",
              "      fill: #D2E3FC;\n",
              "    }\n",
              "\n",
              "    [theme=dark] .colab-df-convert:hover {\n",
              "      background-color: #434B5C;\n",
              "      box-shadow: 0px 1px 3px 1px rgba(0, 0, 0, 0.15);\n",
              "      filter: drop-shadow(0px 1px 2px rgba(0, 0, 0, 0.3));\n",
              "      fill: #FFFFFF;\n",
              "    }\n",
              "  </style>\n",
              "\n",
              "      <script>\n",
              "        const buttonEl =\n",
              "          document.querySelector('#df-d87d942f-8688-4583-8b55-dfe9b859ddc3 button.colab-df-convert');\n",
              "        buttonEl.style.display =\n",
              "          google.colab.kernel.accessAllowed ? 'block' : 'none';\n",
              "\n",
              "        async function convertToInteractive(key) {\n",
              "          const element = document.querySelector('#df-d87d942f-8688-4583-8b55-dfe9b859ddc3');\n",
              "          const dataTable =\n",
              "            await google.colab.kernel.invokeFunction('convertToInteractive',\n",
              "                                                     [key], {});\n",
              "          if (!dataTable) return;\n",
              "\n",
              "          const docLinkHtml = 'Like what you see? Visit the ' +\n",
              "            '<a target=\"_blank\" href=https://colab.research.google.com/notebooks/data_table.ipynb>data table notebook</a>'\n",
              "            + ' to learn more about interactive tables.';\n",
              "          element.innerHTML = '';\n",
              "          dataTable['output_type'] = 'display_data';\n",
              "          await google.colab.output.renderOutput(dataTable, element);\n",
              "          const docLink = document.createElement('div');\n",
              "          docLink.innerHTML = docLinkHtml;\n",
              "          element.appendChild(docLink);\n",
              "        }\n",
              "      </script>\n",
              "    </div>\n",
              "  </div>\n",
              "  "
            ]
          },
          "metadata": {},
          "execution_count": 144
        }
      ]
    },
    {
      "cell_type": "code",
      "source": [
        "Gir_tabla3= freq_tbl(girona['host_identity_verified'])\n",
        "Gir_tabla3_index= Gir_tabla3.set_index('host_identity_verified')\n",
        "#tabla3\n",
        "Gir_tabla3_index"
      ],
      "metadata": {
        "colab": {
          "base_uri": "https://localhost:8080/",
          "height": 143
        },
        "id": "Wr_IXw0Jr3lY",
        "outputId": "f6dafad1-01e5-435c-8a1d-abaeadd9fb15"
      },
      "execution_count": 145,
      "outputs": [
        {
          "output_type": "execute_result",
          "data": {
            "text/plain": [
              "                        frequency  percentage  cumulative_perc\n",
              "host_identity_verified                                        \n",
              "t                           17387     0.88461          0.88461\n",
              "f                            2268     0.11539          1.00000"
            ],
            "text/html": [
              "\n",
              "  <div id=\"df-2d649860-eff5-4de1-91ae-e3b1458e0787\">\n",
              "    <div class=\"colab-df-container\">\n",
              "      <div>\n",
              "<style scoped>\n",
              "    .dataframe tbody tr th:only-of-type {\n",
              "        vertical-align: middle;\n",
              "    }\n",
              "\n",
              "    .dataframe tbody tr th {\n",
              "        vertical-align: top;\n",
              "    }\n",
              "\n",
              "    .dataframe thead th {\n",
              "        text-align: right;\n",
              "    }\n",
              "</style>\n",
              "<table border=\"1\" class=\"dataframe\">\n",
              "  <thead>\n",
              "    <tr style=\"text-align: right;\">\n",
              "      <th></th>\n",
              "      <th>frequency</th>\n",
              "      <th>percentage</th>\n",
              "      <th>cumulative_perc</th>\n",
              "    </tr>\n",
              "    <tr>\n",
              "      <th>host_identity_verified</th>\n",
              "      <th></th>\n",
              "      <th></th>\n",
              "      <th></th>\n",
              "    </tr>\n",
              "  </thead>\n",
              "  <tbody>\n",
              "    <tr>\n",
              "      <th>t</th>\n",
              "      <td>17387</td>\n",
              "      <td>0.88461</td>\n",
              "      <td>0.88461</td>\n",
              "    </tr>\n",
              "    <tr>\n",
              "      <th>f</th>\n",
              "      <td>2268</td>\n",
              "      <td>0.11539</td>\n",
              "      <td>1.00000</td>\n",
              "    </tr>\n",
              "  </tbody>\n",
              "</table>\n",
              "</div>\n",
              "      <button class=\"colab-df-convert\" onclick=\"convertToInteractive('df-2d649860-eff5-4de1-91ae-e3b1458e0787')\"\n",
              "              title=\"Convert this dataframe to an interactive table.\"\n",
              "              style=\"display:none;\">\n",
              "        \n",
              "  <svg xmlns=\"http://www.w3.org/2000/svg\" height=\"24px\"viewBox=\"0 0 24 24\"\n",
              "       width=\"24px\">\n",
              "    <path d=\"M0 0h24v24H0V0z\" fill=\"none\"/>\n",
              "    <path d=\"M18.56 5.44l.94 2.06.94-2.06 2.06-.94-2.06-.94-.94-2.06-.94 2.06-2.06.94zm-11 1L8.5 8.5l.94-2.06 2.06-.94-2.06-.94L8.5 2.5l-.94 2.06-2.06.94zm10 10l.94 2.06.94-2.06 2.06-.94-2.06-.94-.94-2.06-.94 2.06-2.06.94z\"/><path d=\"M17.41 7.96l-1.37-1.37c-.4-.4-.92-.59-1.43-.59-.52 0-1.04.2-1.43.59L10.3 9.45l-7.72 7.72c-.78.78-.78 2.05 0 2.83L4 21.41c.39.39.9.59 1.41.59.51 0 1.02-.2 1.41-.59l7.78-7.78 2.81-2.81c.8-.78.8-2.07 0-2.86zM5.41 20L4 18.59l7.72-7.72 1.47 1.35L5.41 20z\"/>\n",
              "  </svg>\n",
              "      </button>\n",
              "      \n",
              "  <style>\n",
              "    .colab-df-container {\n",
              "      display:flex;\n",
              "      flex-wrap:wrap;\n",
              "      gap: 12px;\n",
              "    }\n",
              "\n",
              "    .colab-df-convert {\n",
              "      background-color: #E8F0FE;\n",
              "      border: none;\n",
              "      border-radius: 50%;\n",
              "      cursor: pointer;\n",
              "      display: none;\n",
              "      fill: #1967D2;\n",
              "      height: 32px;\n",
              "      padding: 0 0 0 0;\n",
              "      width: 32px;\n",
              "    }\n",
              "\n",
              "    .colab-df-convert:hover {\n",
              "      background-color: #E2EBFA;\n",
              "      box-shadow: 0px 1px 2px rgba(60, 64, 67, 0.3), 0px 1px 3px 1px rgba(60, 64, 67, 0.15);\n",
              "      fill: #174EA6;\n",
              "    }\n",
              "\n",
              "    [theme=dark] .colab-df-convert {\n",
              "      background-color: #3B4455;\n",
              "      fill: #D2E3FC;\n",
              "    }\n",
              "\n",
              "    [theme=dark] .colab-df-convert:hover {\n",
              "      background-color: #434B5C;\n",
              "      box-shadow: 0px 1px 3px 1px rgba(0, 0, 0, 0.15);\n",
              "      filter: drop-shadow(0px 1px 2px rgba(0, 0, 0, 0.3));\n",
              "      fill: #FFFFFF;\n",
              "    }\n",
              "  </style>\n",
              "\n",
              "      <script>\n",
              "        const buttonEl =\n",
              "          document.querySelector('#df-2d649860-eff5-4de1-91ae-e3b1458e0787 button.colab-df-convert');\n",
              "        buttonEl.style.display =\n",
              "          google.colab.kernel.accessAllowed ? 'block' : 'none';\n",
              "\n",
              "        async function convertToInteractive(key) {\n",
              "          const element = document.querySelector('#df-2d649860-eff5-4de1-91ae-e3b1458e0787');\n",
              "          const dataTable =\n",
              "            await google.colab.kernel.invokeFunction('convertToInteractive',\n",
              "                                                     [key], {});\n",
              "          if (!dataTable) return;\n",
              "\n",
              "          const docLinkHtml = 'Like what you see? Visit the ' +\n",
              "            '<a target=\"_blank\" href=https://colab.research.google.com/notebooks/data_table.ipynb>data table notebook</a>'\n",
              "            + ' to learn more about interactive tables.';\n",
              "          element.innerHTML = '';\n",
              "          dataTable['output_type'] = 'display_data';\n",
              "          await google.colab.output.renderOutput(dataTable, element);\n",
              "          const docLink = document.createElement('div');\n",
              "          docLink.innerHTML = docLinkHtml;\n",
              "          element.appendChild(docLink);\n",
              "        }\n",
              "      </script>\n",
              "    </div>\n",
              "  </div>\n",
              "  "
            ]
          },
          "metadata": {},
          "execution_count": 145
        }
      ]
    },
    {
      "cell_type": "code",
      "source": [
        "Cali_tabla3_index['frequency'].plot(kind='pie', figsize=(10,5), autopct=\"%0.1f %%\")\n",
        "plt.title('Host Verificado en California')"
      ],
      "metadata": {
        "colab": {
          "base_uri": "https://localhost:8080/",
          "height": 461
        },
        "id": "SrLVqwiWtTJz",
        "outputId": "4ee96143-34ab-47a3-c559-904de1d27eb5"
      },
      "execution_count": 146,
      "outputs": [
        {
          "output_type": "execute_result",
          "data": {
            "text/plain": [
              "Text(0.5, 1.0, 'Host Verificado en California')"
            ]
          },
          "metadata": {},
          "execution_count": 146
        },
        {
          "output_type": "display_data",
          "data": {
            "text/plain": [
              "<Figure size 1000x500 with 1 Axes>"
            ],
            "image/png": "[encoded data removed]"
          },
          "metadata": {}
        }
      ]
    },
    {
      "cell_type": "code",
      "source": [
        "Mex_tabla3_index['frequency'].plot(kind='pie', figsize=(10,5), autopct=\"%0.1f %%\")\n",
        "plt.title('Host Verificado en el DF')"
      ],
      "metadata": {
        "colab": {
          "base_uri": "https://localhost:8080/",
          "height": 461
        },
        "id": "15A9zg_ftXLt",
        "outputId": "b6956f6f-5128-420b-fa1f-f39738cdc4ea"
      },
      "execution_count": 147,
      "outputs": [
        {
          "output_type": "execute_result",
          "data": {
            "text/plain": [
              "Text(0.5, 1.0, 'Host Verificado en el DF')"
            ]
          },
          "metadata": {},
          "execution_count": 147
        },
        {
          "output_type": "display_data",
          "data": {
            "text/plain": [
              "<Figure size 1000x500 with 1 Axes>"
            ],
            "image/png": "[encoded data removed]"
          },
          "metadata": {}
        }
      ]
    },
    {
      "cell_type": "code",
      "source": [
        "Gir_tabla3_index['frequency'].plot(kind='pie', figsize=(10,5), autopct=\"%0.1f %%\")\n",
        "plt.title('Host Verificado en Girona')"
      ],
      "metadata": {
        "colab": {
          "base_uri": "https://localhost:8080/",
          "height": 461
        },
        "id": "bYZGH7nZtZam",
        "outputId": "827f1162-4d4f-4027-e56d-9cf41798954b"
      },
      "execution_count": 148,
      "outputs": [
        {
          "output_type": "execute_result",
          "data": {
            "text/plain": [
              "Text(0.5, 1.0, 'Host Verificado en Girona')"
            ]
          },
          "metadata": {},
          "execution_count": 148
        },
        {
          "output_type": "display_data",
          "data": {
            "text/plain": [
              "<Figure size 1000x500 with 1 Axes>"
            ],
            "image/png": "[encoded data removed]"
          },
          "metadata": {}
        }
      ]
    },
    {
      "cell_type": "markdown",
      "source": [
        "### d) property_type"
      ],
      "metadata": {
        "id": "qIdVjj9Gq-lB"
      }
    },
    {
      "cell_type": "code",
      "source": [
        "Cali_tabla4= freq_tbl(california['property_type'])\n",
        "Cali_tabla4= Cali_tabla4[Cali_tabla4['frequency']>30]\n",
        "Cali_tabla4_index= Cali_tabla4.set_index('property_type')\n",
        "#tabla4\n",
        "Cali_tabla4_index"
      ],
      "metadata": {
        "colab": {
          "base_uri": "https://localhost:8080/",
          "height": 677
        },
        "id": "kOcAo-fptiFH",
        "outputId": "d0c292e9-8e5d-4bae-843f-5d03bc70ba89"
      },
      "execution_count": 149,
      "outputs": [
        {
          "output_type": "execute_result",
          "data": {
            "text/plain": [
              "                             frequency  percentage  cumulative_perc\n",
              "property_type                                                      \n",
              "Entire rental unit                1848    0.266436         0.266436\n",
              "Entire condo                       879    0.126730         0.393166\n",
              "Private room in home               853    0.122982         0.516148\n",
              "Entire home                        839    0.120963         0.637111\n",
              "Entire guest suite                 495    0.071367         0.708478\n",
              "Private room in rental unit        471    0.067907         0.776384\n",
              "Room in boutique hotel             352    0.050750         0.827134\n",
              "Room in hotel                      265    0.038206         0.865340\n",
              "Private room in condo              192    0.027682         0.893022\n",
              "Entire serviced apartment          145    0.020905         0.913927\n",
              "Room in aparthotel                  68    0.009804         0.923731\n",
              "Entire townhouse                    63    0.009083         0.932814\n",
              "Entire loft                         60    0.008651         0.941465\n",
              "Private room in guest suite         55    0.007930         0.949394\n",
              "Entire guesthouse                   52    0.007497         0.956892\n",
              "Private room in townhouse           48    0.006920         0.963812\n",
              "Shared room in hostel               38    0.005479         0.969291\n",
              "Private room in resort              34    0.004902         0.974193\n",
              "Private room in hostel              33    0.004758         0.978950"
            ],
            "text/html": [
              "\n",
              "  <div id=\"df-30b87326-41fb-4856-b084-63495244fc4f\">\n",
              "    <div class=\"colab-df-container\">\n",
              "      <div>\n",
              "<style scoped>\n",
              "    .dataframe tbody tr th:only-of-type {\n",
              "        vertical-align: middle;\n",
              "    }\n",
              "\n",
              "    .dataframe tbody tr th {\n",
              "        vertical-align: top;\n",
              "    }\n",
              "\n",
              "    .dataframe thead th {\n",
              "        text-align: right;\n",
              "    }\n",
              "</style>\n",
              "<table border=\"1\" class=\"dataframe\">\n",
              "  <thead>\n",
              "    <tr style=\"text-align: right;\">\n",
              "      <th></th>\n",
              "      <th>frequency</th>\n",
              "      <th>percentage</th>\n",
              "      <th>cumulative_perc</th>\n",
              "    </tr>\n",
              "    <tr>\n",
              "      <th>property_type</th>\n",
              "      <th></th>\n",
              "      <th></th>\n",
              "      <th></th>\n",
              "    </tr>\n",
              "  </thead>\n",
              "  <tbody>\n",
              "    <tr>\n",
              "      <th>Entire rental unit</th>\n",
              "      <td>1848</td>\n",
              "      <td>0.266436</td>\n",
              "      <td>0.266436</td>\n",
              "    </tr>\n",
              "    <tr>\n",
              "      <th>Entire condo</th>\n",
              "      <td>879</td>\n",
              "      <td>0.126730</td>\n",
              "      <td>0.393166</td>\n",
              "    </tr>\n",
              "    <tr>\n",
              "      <th>Private room in home</th>\n",
              "      <td>853</td>\n",
              "      <td>0.122982</td>\n",
              "      <td>0.516148</td>\n",
              "    </tr>\n",
              "    <tr>\n",
              "      <th>Entire home</th>\n",
              "      <td>839</td>\n",
              "      <td>0.120963</td>\n",
              "      <td>0.637111</td>\n",
              "    </tr>\n",
              "    <tr>\n",
              "      <th>Entire guest suite</th>\n",
              "      <td>495</td>\n",
              "      <td>0.071367</td>\n",
              "      <td>0.708478</td>\n",
              "    </tr>\n",
              "    <tr>\n",
              "      <th>Private room in rental unit</th>\n",
              "      <td>471</td>\n",
              "      <td>0.067907</td>\n",
              "      <td>0.776384</td>\n",
              "    </tr>\n",
              "    <tr>\n",
              "      <th>Room in boutique hotel</th>\n",
              "      <td>352</td>\n",
              "      <td>0.050750</td>\n",
              "      <td>0.827134</td>\n",
              "    </tr>\n",
              "    <tr>\n",
              "      <th>Room in hotel</th>\n",
              "      <td>265</td>\n",
              "      <td>0.038206</td>\n",
              "      <td>0.865340</td>\n",
              "    </tr>\n",
              "    <tr>\n",
              "      <th>Private room in condo</th>\n",
              "      <td>192</td>\n",
              "      <td>0.027682</td>\n",
              "      <td>0.893022</td>\n",
              "    </tr>\n",
              "    <tr>\n",
              "      <th>Entire serviced apartment</th>\n",
              "      <td>145</td>\n",
              "      <td>0.020905</td>\n",
              "      <td>0.913927</td>\n",
              "    </tr>\n",
              "    <tr>\n",
              "      <th>Room in aparthotel</th>\n",
              "      <td>68</td>\n",
              "      <td>0.009804</td>\n",
              "      <td>0.923731</td>\n",
              "    </tr>\n",
              "    <tr>\n",
              "      <th>Entire townhouse</th>\n",
              "      <td>63</td>\n",
              "      <td>0.009083</td>\n",
              "      <td>0.932814</td>\n",
              "    </tr>\n",
              "    <tr>\n",
              "      <th>Entire loft</th>\n",
              "      <td>60</td>\n",
              "      <td>0.008651</td>\n",
              "      <td>0.941465</td>\n",
              "    </tr>\n",
              "    <tr>\n",
              "      <th>Private room in guest suite</th>\n",
              "      <td>55</td>\n",
              "      <td>0.007930</td>\n",
              "      <td>0.949394</td>\n",
              "    </tr>\n",
              "    <tr>\n",
              "      <th>Entire guesthouse</th>\n",
              "      <td>52</td>\n",
              "      <td>0.007497</td>\n",
              "      <td>0.956892</td>\n",
              "    </tr>\n",
              "    <tr>\n",
              "      <th>Private room in townhouse</th>\n",
              "      <td>48</td>\n",
              "      <td>0.006920</td>\n",
              "      <td>0.963812</td>\n",
              "    </tr>\n",
              "    <tr>\n",
              "      <th>Shared room in hostel</th>\n",
              "      <td>38</td>\n",
              "      <td>0.005479</td>\n",
              "      <td>0.969291</td>\n",
              "    </tr>\n",
              "    <tr>\n",
              "      <th>Private room in resort</th>\n",
              "      <td>34</td>\n",
              "      <td>0.004902</td>\n",
              "      <td>0.974193</td>\n",
              "    </tr>\n",
              "    <tr>\n",
              "      <th>Private room in hostel</th>\n",
              "      <td>33</td>\n",
              "      <td>0.004758</td>\n",
              "      <td>0.978950</td>\n",
              "    </tr>\n",
              "  </tbody>\n",
              "</table>\n",
              "</div>\n",
              "      <button class=\"colab-df-convert\" onclick=\"convertToInteractive('df-30b87326-41fb-4856-b084-63495244fc4f')\"\n",
              "              title=\"Convert this dataframe to an interactive table.\"\n",
              "              style=\"display:none;\">\n",
              "        \n",
              "  <svg xmlns=\"http://www.w3.org/2000/svg\" height=\"24px\"viewBox=\"0 0 24 24\"\n",
              "       width=\"24px\">\n",
              "    <path d=\"M0 0h24v24H0V0z\" fill=\"none\"/>\n",
              "    <path d=\"M18.56 5.44l.94 2.06.94-2.06 2.06-.94-2.06-.94-.94-2.06-.94 2.06-2.06.94zm-11 1L8.5 8.5l.94-2.06 2.06-.94-2.06-.94L8.5 2.5l-.94 2.06-2.06.94zm10 10l.94 2.06.94-2.06 2.06-.94-2.06-.94-.94-2.06-.94 2.06-2.06.94z\"/><path d=\"M17.41 7.96l-1.37-1.37c-.4-.4-.92-.59-1.43-.59-.52 0-1.04.2-1.43.59L10.3 9.45l-7.72 7.72c-.78.78-.78 2.05 0 2.83L4 21.41c.39.39.9.59 1.41.59.51 0 1.02-.2 1.41-.59l7.78-7.78 2.81-2.81c.8-.78.8-2.07 0-2.86zM5.41 20L4 18.59l7.72-7.72 1.47 1.35L5.41 20z\"/>\n",
              "  </svg>\n",
              "      </button>\n",
              "      \n",
              "  <style>\n",
              "    .colab-df-container {\n",
              "      display:flex;\n",
              "      flex-wrap:wrap;\n",
              "      gap: 12px;\n",
              "    }\n",
              "\n",
              "    .colab-df-convert {\n",
              "      background-color: #E8F0FE;\n",
              "      border: none;\n",
              "      border-radius: 50%;\n",
              "      cursor: pointer;\n",
              "      display: none;\n",
              "      fill: #1967D2;\n",
              "      height: 32px;\n",
              "      padding: 0 0 0 0;\n",
              "      width: 32px;\n",
              "    }\n",
              "\n",
              "    .colab-df-convert:hover {\n",
              "      background-color: #E2EBFA;\n",
              "      box-shadow: 0px 1px 2px rgba(60, 64, 67, 0.3), 0px 1px 3px 1px rgba(60, 64, 67, 0.15);\n",
              "      fill: #174EA6;\n",
              "    }\n",
              "\n",
              "    [theme=dark] .colab-df-convert {\n",
              "      background-color: #3B4455;\n",
              "      fill: #D2E3FC;\n",
              "    }\n",
              "\n",
              "    [theme=dark] .colab-df-convert:hover {\n",
              "      background-color: #434B5C;\n",
              "      box-shadow: 0px 1px 3px 1px rgba(0, 0, 0, 0.15);\n",
              "      filter: drop-shadow(0px 1px 2px rgba(0, 0, 0, 0.3));\n",
              "      fill: #FFFFFF;\n",
              "    }\n",
              "  </style>\n",
              "\n",
              "      <script>\n",
              "        const buttonEl =\n",
              "          document.querySelector('#df-30b87326-41fb-4856-b084-63495244fc4f button.colab-df-convert');\n",
              "        buttonEl.style.display =\n",
              "          google.colab.kernel.accessAllowed ? 'block' : 'none';\n",
              "\n",
              "        async function convertToInteractive(key) {\n",
              "          const element = document.querySelector('#df-30b87326-41fb-4856-b084-63495244fc4f');\n",
              "          const dataTable =\n",
              "            await google.colab.kernel.invokeFunction('convertToInteractive',\n",
              "                                                     [key], {});\n",
              "          if (!dataTable) return;\n",
              "\n",
              "          const docLinkHtml = 'Like what you see? Visit the ' +\n",
              "            '<a target=\"_blank\" href=https://colab.research.google.com/notebooks/data_table.ipynb>data table notebook</a>'\n",
              "            + ' to learn more about interactive tables.';\n",
              "          element.innerHTML = '';\n",
              "          dataTable['output_type'] = 'display_data';\n",
              "          await google.colab.output.renderOutput(dataTable, element);\n",
              "          const docLink = document.createElement('div');\n",
              "          docLink.innerHTML = docLinkHtml;\n",
              "          element.appendChild(docLink);\n",
              "        }\n",
              "      </script>\n",
              "    </div>\n",
              "  </div>\n",
              "  "
            ]
          },
          "metadata": {},
          "execution_count": 149
        }
      ]
    },
    {
      "cell_type": "code",
      "source": [
        "Mex_tabla4= freq_tbl(df['property_type'])\n",
        "Mex_tabla4= Mex_tabla4[Mex_tabla4['frequency']>30]\n",
        "Mex_tabla4_index= Mex_tabla4.set_index('property_type')\n",
        "#tabla4\n",
        "Mex_tabla4_index"
      ],
      "metadata": {
        "colab": {
          "base_uri": "https://localhost:8080/",
          "height": 1000
        },
        "id": "EM0n9zsZuAvd",
        "outputId": "e5917b64-7687-40f5-c38f-da7b73b7cbbd"
      },
      "execution_count": 150,
      "outputs": [
        {
          "output_type": "execute_result",
          "data": {
            "text/plain": [
              "                                    frequency  percentage  cumulative_perc\n",
              "property_type                                                             \n",
              "Entire rental unit                       8145    0.336237         0.336237\n",
              "Entire condo                             3363    0.138829         0.475066\n",
              "Private room in rental unit              2860    0.118065         0.593131\n",
              "Private room in home                     2009    0.082934         0.676065\n",
              "Entire loft                              1584    0.065390         0.741455\n",
              "Entire serviced apartment                1067    0.044047         0.785502\n",
              "Private room in condo                     917    0.037855         0.823357\n",
              "Entire home                               661    0.027287         0.850644\n",
              "Room in hotel                             381    0.015728         0.866372\n",
              "Private room in guest suite               297    0.012261         0.878633\n",
              "Private room in serviced apartment        295    0.012178         0.890811\n",
              "Entire guest suite                        252    0.010403         0.901214\n",
              "Room in boutique hotel                    246    0.010155         0.911369\n",
              "Private room in casa particular           243    0.010031         0.921400\n",
              "Private room in bed and breakfast         236    0.009742         0.931143\n",
              "Private room in guesthouse                177    0.007307         0.938449\n",
              "Private room in loft                      145    0.005986         0.944435\n",
              "Shared room in home                       109    0.004500         0.948935\n",
              "Room in aparthotel                        108    0.004458         0.953393\n",
              "Private room in townhouse                  94    0.003880         0.957274\n",
              "Entire guesthouse                          88    0.003633         0.960907\n",
              "Entire vacation home                       88    0.003633         0.964539\n",
              "Private room in hostel                     86    0.003550         0.968089\n",
              "Shared room in rental unit                 64    0.002642         0.970732\n",
              "Private room in vacation home              63    0.002601         0.973332\n",
              "Entire townhouse                           50    0.002064         0.975396\n",
              "Private room                               43    0.001775         0.977171\n",
              "Shipping container                         40    0.001651         0.978823\n",
              "Private room in tiny home                  39    0.001610         0.980433\n",
              "Shared room in hostel                      38    0.001569         0.982001\n",
              "Room in serviced apartment                 38    0.001569         0.983570\n",
              "Casa particular                            37    0.001527         0.985097\n",
              "Tiny home                                  34    0.001404         0.986501"
            ],
            "text/html": [
              "\n",
              "  <div id=\"df-ffb95e71-b01e-44df-98e9-6b255cde2f0e\">\n",
              "    <div class=\"colab-df-container\">\n",
              "      <div>\n",
              "<style scoped>\n",
              "    .dataframe tbody tr th:only-of-type {\n",
              "        vertical-align: middle;\n",
              "    }\n",
              "\n",
              "    .dataframe tbody tr th {\n",
              "        vertical-align: top;\n",
              "    }\n",
              "\n",
              "    .dataframe thead th {\n",
              "        text-align: right;\n",
              "    }\n",
              "</style>\n",
              "<table border=\"1\" class=\"dataframe\">\n",
              "  <thead>\n",
              "    <tr style=\"text-align: right;\">\n",
              "      <th></th>\n",
              "      <th>frequency</th>\n",
              "      <th>percentage</th>\n",
              "      <th>cumulative_perc</th>\n",
              "    </tr>\n",
              "    <tr>\n",
              "      <th>property_type</th>\n",
              "      <th></th>\n",
              "      <th></th>\n",
              "      <th></th>\n",
              "    </tr>\n",
              "  </thead>\n",
              "  <tbody>\n",
              "    <tr>\n",
              "      <th>Entire rental unit</th>\n",
              "      <td>8145</td>\n",
              "      <td>0.336237</td>\n",
              "      <td>0.336237</td>\n",
              "    </tr>\n",
              "    <tr>\n",
              "      <th>Entire condo</th>\n",
              "      <td>3363</td>\n",
              "      <td>0.138829</td>\n",
              "      <td>0.475066</td>\n",
              "    </tr>\n",
              "    <tr>\n",
              "      <th>Private room in rental unit</th>\n",
              "      <td>2860</td>\n",
              "      <td>0.118065</td>\n",
              "      <td>0.593131</td>\n",
              "    </tr>\n",
              "    <tr>\n",
              "      <th>Private room in home</th>\n",
              "      <td>2009</td>\n",
              "      <td>0.082934</td>\n",
              "      <td>0.676065</td>\n",
              "    </tr>\n",
              "    <tr>\n",
              "      <th>Entire loft</th>\n",
              "      <td>1584</td>\n",
              "      <td>0.065390</td>\n",
              "      <td>0.741455</td>\n",
              "    </tr>\n",
              "    <tr>\n",
              "      <th>Entire serviced apartment</th>\n",
              "      <td>1067</td>\n",
              "      <td>0.044047</td>\n",
              "      <td>0.785502</td>\n",
              "    </tr>\n",
              "    <tr>\n",
              "      <th>Private room in condo</th>\n",
              "      <td>917</td>\n",
              "      <td>0.037855</td>\n",
              "      <td>0.823357</td>\n",
              "    </tr>\n",
              "    <tr>\n",
              "      <th>Entire home</th>\n",
              "      <td>661</td>\n",
              "      <td>0.027287</td>\n",
              "      <td>0.850644</td>\n",
              "    </tr>\n",
              "    <tr>\n",
              "      <th>Room in hotel</th>\n",
              "      <td>381</td>\n",
              "      <td>0.015728</td>\n",
              "      <td>0.866372</td>\n",
              "    </tr>\n",
              "    <tr>\n",
              "      <th>Private room in guest suite</th>\n",
              "      <td>297</td>\n",
              "      <td>0.012261</td>\n",
              "      <td>0.878633</td>\n",
              "    </tr>\n",
              "    <tr>\n",
              "      <th>Private room in serviced apartment</th>\n",
              "      <td>295</td>\n",
              "      <td>0.012178</td>\n",
              "      <td>0.890811</td>\n",
              "    </tr>\n",
              "    <tr>\n",
              "      <th>Entire guest suite</th>\n",
              "      <td>252</td>\n",
              "      <td>0.010403</td>\n",
              "      <td>0.901214</td>\n",
              "    </tr>\n",
              "    <tr>\n",
              "      <th>Room in boutique hotel</th>\n",
              "      <td>246</td>\n",
              "      <td>0.010155</td>\n",
              "      <td>0.911369</td>\n",
              "    </tr>\n",
              "    <tr>\n",
              "      <th>Private room in casa particular</th>\n",
              "      <td>243</td>\n",
              "      <td>0.010031</td>\n",
              "      <td>0.921400</td>\n",
              "    </tr>\n",
              "    <tr>\n",
              "      <th>Private room in bed and breakfast</th>\n",
              "      <td>236</td>\n",
              "      <td>0.009742</td>\n",
              "      <td>0.931143</td>\n",
              "    </tr>\n",
              "    <tr>\n",
              "      <th>Private room in guesthouse</th>\n",
              "      <td>177</td>\n",
              "      <td>0.007307</td>\n",
              "      <td>0.938449</td>\n",
              "    </tr>\n",
              "    <tr>\n",
              "      <th>Private room in loft</th>\n",
              "      <td>145</td>\n",
              "      <td>0.005986</td>\n",
              "      <td>0.944435</td>\n",
              "    </tr>\n",
              "    <tr>\n",
              "      <th>Shared room in home</th>\n",
              "      <td>109</td>\n",
              "      <td>0.004500</td>\n",
              "      <td>0.948935</td>\n",
              "    </tr>\n",
              "    <tr>\n",
              "      <th>Room in aparthotel</th>\n",
              "      <td>108</td>\n",
              "      <td>0.004458</td>\n",
              "      <td>0.953393</td>\n",
              "    </tr>\n",
              "    <tr>\n",
              "      <th>Private room in townhouse</th>\n",
              "      <td>94</td>\n",
              "      <td>0.003880</td>\n",
              "      <td>0.957274</td>\n",
              "    </tr>\n",
              "    <tr>\n",
              "      <th>Entire guesthouse</th>\n",
              "      <td>88</td>\n",
              "      <td>0.003633</td>\n",
              "      <td>0.960907</td>\n",
              "    </tr>\n",
              "    <tr>\n",
              "      <th>Entire vacation home</th>\n",
              "      <td>88</td>\n",
              "      <td>0.003633</td>\n",
              "      <td>0.964539</td>\n",
              "    </tr>\n",
              "    <tr>\n",
              "      <th>Private room in hostel</th>\n",
              "      <td>86</td>\n",
              "      <td>0.003550</td>\n",
              "      <td>0.968089</td>\n",
              "    </tr>\n",
              "    <tr>\n",
              "      <th>Shared room in rental unit</th>\n",
              "      <td>64</td>\n",
              "      <td>0.002642</td>\n",
              "      <td>0.970732</td>\n",
              "    </tr>\n",
              "    <tr>\n",
              "      <th>Private room in vacation home</th>\n",
              "      <td>63</td>\n",
              "      <td>0.002601</td>\n",
              "      <td>0.973332</td>\n",
              "    </tr>\n",
              "    <tr>\n",
              "      <th>Entire townhouse</th>\n",
              "      <td>50</td>\n",
              "      <td>0.002064</td>\n",
              "      <td>0.975396</td>\n",
              "    </tr>\n",
              "    <tr>\n",
              "      <th>Private room</th>\n",
              "      <td>43</td>\n",
              "      <td>0.001775</td>\n",
              "      <td>0.977171</td>\n",
              "    </tr>\n",
              "    <tr>\n",
              "      <th>Shipping container</th>\n",
              "      <td>40</td>\n",
              "      <td>0.001651</td>\n",
              "      <td>0.978823</td>\n",
              "    </tr>\n",
              "    <tr>\n",
              "      <th>Private room in tiny home</th>\n",
              "      <td>39</td>\n",
              "      <td>0.001610</td>\n",
              "      <td>0.980433</td>\n",
              "    </tr>\n",
              "    <tr>\n",
              "      <th>Shared room in hostel</th>\n",
              "      <td>38</td>\n",
              "      <td>0.001569</td>\n",
              "      <td>0.982001</td>\n",
              "    </tr>\n",
              "    <tr>\n",
              "      <th>Room in serviced apartment</th>\n",
              "      <td>38</td>\n",
              "      <td>0.001569</td>\n",
              "      <td>0.983570</td>\n",
              "    </tr>\n",
              "    <tr>\n",
              "      <th>Casa particular</th>\n",
              "      <td>37</td>\n",
              "      <td>0.001527</td>\n",
              "      <td>0.985097</td>\n",
              "    </tr>\n",
              "    <tr>\n",
              "      <th>Tiny home</th>\n",
              "      <td>34</td>\n",
              "      <td>0.001404</td>\n",
              "      <td>0.986501</td>\n",
              "    </tr>\n",
              "  </tbody>\n",
              "</table>\n",
              "</div>\n",
              "      <button class=\"colab-df-convert\" onclick=\"convertToInteractive('df-ffb95e71-b01e-44df-98e9-6b255cde2f0e')\"\n",
              "              title=\"Convert this dataframe to an interactive table.\"\n",
              "              style=\"display:none;\">\n",
              "        \n",
              "  <svg xmlns=\"http://www.w3.org/2000/svg\" height=\"24px\"viewBox=\"0 0 24 24\"\n",
              "       width=\"24px\">\n",
              "    <path d=\"M0 0h24v24H0V0z\" fill=\"none\"/>\n",
              "    <path d=\"M18.56 5.44l.94 2.06.94-2.06 2.06-.94-2.06-.94-.94-2.06-.94 2.06-2.06.94zm-11 1L8.5 8.5l.94-2.06 2.06-.94-2.06-.94L8.5 2.5l-.94 2.06-2.06.94zm10 10l.94 2.06.94-2.06 2.06-.94-2.06-.94-.94-2.06-.94 2.06-2.06.94z\"/><path d=\"M17.41 7.96l-1.37-1.37c-.4-.4-.92-.59-1.43-.59-.52 0-1.04.2-1.43.59L10.3 9.45l-7.72 7.72c-.78.78-.78 2.05 0 2.83L4 21.41c.39.39.9.59 1.41.59.51 0 1.02-.2 1.41-.59l7.78-7.78 2.81-2.81c.8-.78.8-2.07 0-2.86zM5.41 20L4 18.59l7.72-7.72 1.47 1.35L5.41 20z\"/>\n",
              "  </svg>\n",
              "      </button>\n",
              "      \n",
              "  <style>\n",
              "    .colab-df-container {\n",
              "      display:flex;\n",
              "      flex-wrap:wrap;\n",
              "      gap: 12px;\n",
              "    }\n",
              "\n",
              "    .colab-df-convert {\n",
              "      background-color: #E8F0FE;\n",
              "      border: none;\n",
              "      border-radius: 50%;\n",
              "      cursor: pointer;\n",
              "      display: none;\n",
              "      fill: #1967D2;\n",
              "      height: 32px;\n",
              "      padding: 0 0 0 0;\n",
              "      width: 32px;\n",
              "    }\n",
              "\n",
              "    .colab-df-convert:hover {\n",
              "      background-color: #E2EBFA;\n",
              "      box-shadow: 0px 1px 2px rgba(60, 64, 67, 0.3), 0px 1px 3px 1px rgba(60, 64, 67, 0.15);\n",
              "      fill: #174EA6;\n",
              "    }\n",
              "\n",
              "    [theme=dark] .colab-df-convert {\n",
              "      background-color: #3B4455;\n",
              "      fill: #D2E3FC;\n",
              "    }\n",
              "\n",
              "    [theme=dark] .colab-df-convert:hover {\n",
              "      background-color: #434B5C;\n",
              "      box-shadow: 0px 1px 3px 1px rgba(0, 0, 0, 0.15);\n",
              "      filter: drop-shadow(0px 1px 2px rgba(0, 0, 0, 0.3));\n",
              "      fill: #FFFFFF;\n",
              "    }\n",
              "  </style>\n",
              "\n",
              "      <script>\n",
              "        const buttonEl =\n",
              "          document.querySelector('#df-ffb95e71-b01e-44df-98e9-6b255cde2f0e button.colab-df-convert');\n",
              "        buttonEl.style.display =\n",
              "          google.colab.kernel.accessAllowed ? 'block' : 'none';\n",
              "\n",
              "        async function convertToInteractive(key) {\n",
              "          const element = document.querySelector('#df-ffb95e71-b01e-44df-98e9-6b255cde2f0e');\n",
              "          const dataTable =\n",
              "            await google.colab.kernel.invokeFunction('convertToInteractive',\n",
              "                                                     [key], {});\n",
              "          if (!dataTable) return;\n",
              "\n",
              "          const docLinkHtml = 'Like what you see? Visit the ' +\n",
              "            '<a target=\"_blank\" href=https://colab.research.google.com/notebooks/data_table.ipynb>data table notebook</a>'\n",
              "            + ' to learn more about interactive tables.';\n",
              "          element.innerHTML = '';\n",
              "          dataTable['output_type'] = 'display_data';\n",
              "          await google.colab.output.renderOutput(dataTable, element);\n",
              "          const docLink = document.createElement('div');\n",
              "          docLink.innerHTML = docLinkHtml;\n",
              "          element.appendChild(docLink);\n",
              "        }\n",
              "      </script>\n",
              "    </div>\n",
              "  </div>\n",
              "  "
            ]
          },
          "metadata": {},
          "execution_count": 150
        }
      ]
    },
    {
      "cell_type": "code",
      "source": [
        "Gir_tabla4= freq_tbl(girona['property_type'])\n",
        "Gir_tabla4= Gir_tabla4[Gir_tabla4['frequency']>30]\n",
        "Gir_tabla4_index= Gir_tabla4.set_index('property_type')\n",
        "#tabla4\n",
        "Gir_tabla4_index"
      ],
      "metadata": {
        "colab": {
          "base_uri": "https://localhost:8080/",
          "height": 802
        },
        "id": "ZjQy3Tx_uLQ8",
        "outputId": "fdef5b03-7c3d-40e7-dc8d-9f14ddf2ecde"
      },
      "execution_count": 151,
      "outputs": [
        {
          "output_type": "execute_result",
          "data": {
            "text/plain": [
              "                                   frequency  percentage  cumulative_perc\n",
              "property_type                                                            \n",
              "Entire rental unit                      9339    0.475146         0.475146\n",
              "Entire home                             3703    0.188400         0.663546\n",
              "Entire villa                            1715    0.087255         0.750801\n",
              "Entire condo                            1400    0.071229         0.822030\n",
              "Entire cottage                           549    0.027932         0.849962\n",
              "Entire townhouse                         453    0.023048         0.873009\n",
              "Entire loft                              217    0.011040         0.884050\n",
              "Room in hotel                            184    0.009361         0.893411\n",
              "Private room in bed and breakfast        179    0.009107         0.902518\n",
              "Entire serviced apartment                175    0.008904         0.911422\n",
              "Private room in rental unit              172    0.008751         0.920173\n",
              "Entire vacation home                     169    0.008598         0.928771\n",
              "Entire chalet                            169    0.008598         0.937370\n",
              "Private room in home                     157    0.007988         0.945357\n",
              "Private room in cottage                  113    0.005749         0.951107\n",
              "Entire guesthouse                         99    0.005037         0.956143\n",
              "Room in boutique hotel                    90    0.004579         0.960722\n",
              "Entire guest suite                        77    0.003918         0.964640\n",
              "Entire bungalow                           53    0.002697         0.967337\n",
              "Private room in hostel                    42    0.002137         0.969473\n",
              "Private room in farm stay                 41    0.002086         0.971559\n",
              "Farm stay                                 35    0.001781         0.973340\n",
              "Private room in casa particular           32    0.001628         0.974968"
            ],
            "text/html": [
              "\n",
              "  <div id=\"df-1c89b4c4-bcbc-4db2-a714-19fbc46751a2\">\n",
              "    <div class=\"colab-df-container\">\n",
              "      <div>\n",
              "<style scoped>\n",
              "    .dataframe tbody tr th:only-of-type {\n",
              "        vertical-align: middle;\n",
              "    }\n",
              "\n",
              "    .dataframe tbody tr th {\n",
              "        vertical-align: top;\n",
              "    }\n",
              "\n",
              "    .dataframe thead th {\n",
              "        text-align: right;\n",
              "    }\n",
              "</style>\n",
              "<table border=\"1\" class=\"dataframe\">\n",
              "  <thead>\n",
              "    <tr style=\"text-align: right;\">\n",
              "      <th></th>\n",
              "      <th>frequency</th>\n",
              "      <th>percentage</th>\n",
              "      <th>cumulative_perc</th>\n",
              "    </tr>\n",
              "    <tr>\n",
              "      <th>property_type</th>\n",
              "      <th></th>\n",
              "      <th></th>\n",
              "      <th></th>\n",
              "    </tr>\n",
              "  </thead>\n",
              "  <tbody>\n",
              "    <tr>\n",
              "      <th>Entire rental unit</th>\n",
              "      <td>9339</td>\n",
              "      <td>0.475146</td>\n",
              "      <td>0.475146</td>\n",
              "    </tr>\n",
              "    <tr>\n",
              "      <th>Entire home</th>\n",
              "      <td>3703</td>\n",
              "      <td>0.188400</td>\n",
              "      <td>0.663546</td>\n",
              "    </tr>\n",
              "    <tr>\n",
              "      <th>Entire villa</th>\n",
              "      <td>1715</td>\n",
              "      <td>0.087255</td>\n",
              "      <td>0.750801</td>\n",
              "    </tr>\n",
              "    <tr>\n",
              "      <th>Entire condo</th>\n",
              "      <td>1400</td>\n",
              "      <td>0.071229</td>\n",
              "      <td>0.822030</td>\n",
              "    </tr>\n",
              "    <tr>\n",
              "      <th>Entire cottage</th>\n",
              "      <td>549</td>\n",
              "      <td>0.027932</td>\n",
              "      <td>0.849962</td>\n",
              "    </tr>\n",
              "    <tr>\n",
              "      <th>Entire townhouse</th>\n",
              "      <td>453</td>\n",
              "      <td>0.023048</td>\n",
              "      <td>0.873009</td>\n",
              "    </tr>\n",
              "    <tr>\n",
              "      <th>Entire loft</th>\n",
              "      <td>217</td>\n",
              "      <td>0.011040</td>\n",
              "      <td>0.884050</td>\n",
              "    </tr>\n",
              "    <tr>\n",
              "      <th>Room in hotel</th>\n",
              "      <td>184</td>\n",
              "      <td>0.009361</td>\n",
              "      <td>0.893411</td>\n",
              "    </tr>\n",
              "    <tr>\n",
              "      <th>Private room in bed and breakfast</th>\n",
              "      <td>179</td>\n",
              "      <td>0.009107</td>\n",
              "      <td>0.902518</td>\n",
              "    </tr>\n",
              "    <tr>\n",
              "      <th>Entire serviced apartment</th>\n",
              "      <td>175</td>\n",
              "      <td>0.008904</td>\n",
              "      <td>0.911422</td>\n",
              "    </tr>\n",
              "    <tr>\n",
              "      <th>Private room in rental unit</th>\n",
              "      <td>172</td>\n",
              "      <td>0.008751</td>\n",
              "      <td>0.920173</td>\n",
              "    </tr>\n",
              "    <tr>\n",
              "      <th>Entire vacation home</th>\n",
              "      <td>169</td>\n",
              "      <td>0.008598</td>\n",
              "      <td>0.928771</td>\n",
              "    </tr>\n",
              "    <tr>\n",
              "      <th>Entire chalet</th>\n",
              "      <td>169</td>\n",
              "      <td>0.008598</td>\n",
              "      <td>0.937370</td>\n",
              "    </tr>\n",
              "    <tr>\n",
              "      <th>Private room in home</th>\n",
              "      <td>157</td>\n",
              "      <td>0.007988</td>\n",
              "      <td>0.945357</td>\n",
              "    </tr>\n",
              "    <tr>\n",
              "      <th>Private room in cottage</th>\n",
              "      <td>113</td>\n",
              "      <td>0.005749</td>\n",
              "      <td>0.951107</td>\n",
              "    </tr>\n",
              "    <tr>\n",
              "      <th>Entire guesthouse</th>\n",
              "      <td>99</td>\n",
              "      <td>0.005037</td>\n",
              "      <td>0.956143</td>\n",
              "    </tr>\n",
              "    <tr>\n",
              "      <th>Room in boutique hotel</th>\n",
              "      <td>90</td>\n",
              "      <td>0.004579</td>\n",
              "      <td>0.960722</td>\n",
              "    </tr>\n",
              "    <tr>\n",
              "      <th>Entire guest suite</th>\n",
              "      <td>77</td>\n",
              "      <td>0.003918</td>\n",
              "      <td>0.964640</td>\n",
              "    </tr>\n",
              "    <tr>\n",
              "      <th>Entire bungalow</th>\n",
              "      <td>53</td>\n",
              "      <td>0.002697</td>\n",
              "      <td>0.967337</td>\n",
              "    </tr>\n",
              "    <tr>\n",
              "      <th>Private room in hostel</th>\n",
              "      <td>42</td>\n",
              "      <td>0.002137</td>\n",
              "      <td>0.969473</td>\n",
              "    </tr>\n",
              "    <tr>\n",
              "      <th>Private room in farm stay</th>\n",
              "      <td>41</td>\n",
              "      <td>0.002086</td>\n",
              "      <td>0.971559</td>\n",
              "    </tr>\n",
              "    <tr>\n",
              "      <th>Farm stay</th>\n",
              "      <td>35</td>\n",
              "      <td>0.001781</td>\n",
              "      <td>0.973340</td>\n",
              "    </tr>\n",
              "    <tr>\n",
              "      <th>Private room in casa particular</th>\n",
              "      <td>32</td>\n",
              "      <td>0.001628</td>\n",
              "      <td>0.974968</td>\n",
              "    </tr>\n",
              "  </tbody>\n",
              "</table>\n",
              "</div>\n",
              "      <button class=\"colab-df-convert\" onclick=\"convertToInteractive('df-1c89b4c4-bcbc-4db2-a714-19fbc46751a2')\"\n",
              "              title=\"Convert this dataframe to an interactive table.\"\n",
              "              style=\"display:none;\">\n",
              "        \n",
              "  <svg xmlns=\"http://www.w3.org/2000/svg\" height=\"24px\"viewBox=\"0 0 24 24\"\n",
              "       width=\"24px\">\n",
              "    <path d=\"M0 0h24v24H0V0z\" fill=\"none\"/>\n",
              "    <path d=\"M18.56 5.44l.94 2.06.94-2.06 2.06-.94-2.06-.94-.94-2.06-.94 2.06-2.06.94zm-11 1L8.5 8.5l.94-2.06 2.06-.94-2.06-.94L8.5 2.5l-.94 2.06-2.06.94zm10 10l.94 2.06.94-2.06 2.06-.94-2.06-.94-.94-2.06-.94 2.06-2.06.94z\"/><path d=\"M17.41 7.96l-1.37-1.37c-.4-.4-.92-.59-1.43-.59-.52 0-1.04.2-1.43.59L10.3 9.45l-7.72 7.72c-.78.78-.78 2.05 0 2.83L4 21.41c.39.39.9.59 1.41.59.51 0 1.02-.2 1.41-.59l7.78-7.78 2.81-2.81c.8-.78.8-2.07 0-2.86zM5.41 20L4 18.59l7.72-7.72 1.47 1.35L5.41 20z\"/>\n",
              "  </svg>\n",
              "      </button>\n",
              "      \n",
              "  <style>\n",
              "    .colab-df-container {\n",
              "      display:flex;\n",
              "      flex-wrap:wrap;\n",
              "      gap: 12px;\n",
              "    }\n",
              "\n",
              "    .colab-df-convert {\n",
              "      background-color: #E8F0FE;\n",
              "      border: none;\n",
              "      border-radius: 50%;\n",
              "      cursor: pointer;\n",
              "      display: none;\n",
              "      fill: #1967D2;\n",
              "      height: 32px;\n",
              "      padding: 0 0 0 0;\n",
              "      width: 32px;\n",
              "    }\n",
              "\n",
              "    .colab-df-convert:hover {\n",
              "      background-color: #E2EBFA;\n",
              "      box-shadow: 0px 1px 2px rgba(60, 64, 67, 0.3), 0px 1px 3px 1px rgba(60, 64, 67, 0.15);\n",
              "      fill: #174EA6;\n",
              "    }\n",
              "\n",
              "    [theme=dark] .colab-df-convert {\n",
              "      background-color: #3B4455;\n",
              "      fill: #D2E3FC;\n",
              "    }\n",
              "\n",
              "    [theme=dark] .colab-df-convert:hover {\n",
              "      background-color: #434B5C;\n",
              "      box-shadow: 0px 1px 3px 1px rgba(0, 0, 0, 0.15);\n",
              "      filter: drop-shadow(0px 1px 2px rgba(0, 0, 0, 0.3));\n",
              "      fill: #FFFFFF;\n",
              "    }\n",
              "  </style>\n",
              "\n",
              "      <script>\n",
              "        const buttonEl =\n",
              "          document.querySelector('#df-1c89b4c4-bcbc-4db2-a714-19fbc46751a2 button.colab-df-convert');\n",
              "        buttonEl.style.display =\n",
              "          google.colab.kernel.accessAllowed ? 'block' : 'none';\n",
              "\n",
              "        async function convertToInteractive(key) {\n",
              "          const element = document.querySelector('#df-1c89b4c4-bcbc-4db2-a714-19fbc46751a2');\n",
              "          const dataTable =\n",
              "            await google.colab.kernel.invokeFunction('convertToInteractive',\n",
              "                                                     [key], {});\n",
              "          if (!dataTable) return;\n",
              "\n",
              "          const docLinkHtml = 'Like what you see? Visit the ' +\n",
              "            '<a target=\"_blank\" href=https://colab.research.google.com/notebooks/data_table.ipynb>data table notebook</a>'\n",
              "            + ' to learn more about interactive tables.';\n",
              "          element.innerHTML = '';\n",
              "          dataTable['output_type'] = 'display_data';\n",
              "          await google.colab.output.renderOutput(dataTable, element);\n",
              "          const docLink = document.createElement('div');\n",
              "          docLink.innerHTML = docLinkHtml;\n",
              "          element.appendChild(docLink);\n",
              "        }\n",
              "      </script>\n",
              "    </div>\n",
              "  </div>\n",
              "  "
            ]
          },
          "metadata": {},
          "execution_count": 151
        }
      ]
    },
    {
      "cell_type": "code",
      "source": [
        "Cali_tabla4_index['frequency'].plot(kind = 'bar', width=1, figsize=(10,4), color= 'yellow')\n",
        "plt.title('Tipo de propiedades en California')\n",
        "plt.xlabel('Tipo')\n",
        "plt.ylabel('Frecuencia')"
      ],
      "metadata": {
        "colab": {
          "base_uri": "https://localhost:8080/",
          "height": 600
        },
        "id": "2x_mMqUPuYFi",
        "outputId": "eabb001b-5bd2-4e8f-b195-0d1f5f133b3f"
      },
      "execution_count": 158,
      "outputs": [
        {
          "output_type": "execute_result",
          "data": {
            "text/plain": [
              "Text(0, 0.5, 'Frecuencia')"
            ]
          },
          "metadata": {},
          "execution_count": 158
        },
        {
          "output_type": "display_data",
          "data": {
            "text/plain": [
              "<Figure size 1000x400 with 1 Axes>"
            ],
            "image/png": "[encoded data removed]"
          },
          "metadata": {}
        }
      ]
    },
    {
      "cell_type": "code",
      "source": [
        "Mex_tabla4_index['frequency'].plot(kind = 'bar', width=1, figsize=(10,4), color= 'green')\n",
        "plt.title('Tipo de propiedades en el DF')\n",
        "plt.xlabel('Tipo')\n",
        "plt.ylabel('Frecuencia')"
      ],
      "metadata": {
        "colab": {
          "base_uri": "https://localhost:8080/",
          "height": 660
        },
        "id": "2AGa8PAuuaLu",
        "outputId": "e7ca73bf-337e-4cdf-c8cd-5a3828f752fd"
      },
      "execution_count": 153,
      "outputs": [
        {
          "output_type": "execute_result",
          "data": {
            "text/plain": [
              "Text(0, 0.5, 'Frecuencia')"
            ]
          },
          "metadata": {},
          "execution_count": 153
        },
        {
          "output_type": "display_data",
          "data": {
            "text/plain": [
              "<Figure size 1000x400 with 1 Axes>"
            ],
            "image/png": "[encoded data removed]"
          },
          "metadata": {}
        }
      ]
    },
    {
      "cell_type": "code",
      "source": [
        "Gir_tabla4_index['frequency'].plot(kind = 'bar', width=1, figsize=(10,4), color= 'red')\n",
        "plt.title('Tipo de propiedades en Girona')\n",
        "plt.xlabel('Tipo')\n",
        "plt.ylabel('Frecuencia')"
      ],
      "metadata": {
        "colab": {
          "base_uri": "https://localhost:8080/",
          "height": 651
        },
        "id": "rbHHxMvOuafp",
        "outputId": "20c93e5e-7f72-4ccc-ba1f-582ff605ce43"
      },
      "execution_count": 159,
      "outputs": [
        {
          "output_type": "execute_result",
          "data": {
            "text/plain": [
              "Text(0, 0.5, 'Frecuencia')"
            ]
          },
          "metadata": {},
          "execution_count": 159
        },
        {
          "output_type": "display_data",
          "data": {
            "text/plain": [
              "<Figure size 1000x400 with 1 Axes>"
            ],
            "image/png": "[encoded data removed]"
          },
          "metadata": {}
        }
      ]
    },
    {
      "cell_type": "markdown",
      "source": [
        "### j) review_scores_value"
      ],
      "metadata": {
        "id": "UnMX6v8-rB_N"
      }
    },
    {
      "cell_type": "code",
      "source": [
        "scores = california['review_scores_value']\n",
        "range = [3,3.5,3.75,4,4.25,4.5,4.75,5,5.25,5.5]\n",
        "plt.hist(scores, bins=range, edgecolor='black', color = 'yellow')\n",
        "\n",
        "plt.xlabel('Review Scores Values')\n",
        "plt.ylabel('Rango')\n",
        "plt.title('Gráfica de los valores de calificación en California')\n",
        "\n",
        "plt.show()"
      ],
      "metadata": {
        "colab": {
          "base_uri": "https://localhost:8080/",
          "height": 472
        },
        "id": "fyKoZOP-q068",
        "outputId": "b63ae43f-3070-4cf3-f150-ad98da082af4"
      },
      "execution_count": 155,
      "outputs": [
        {
          "output_type": "display_data",
          "data": {
            "text/plain": [
              "<Figure size 640x480 with 1 Axes>"
            ],
            "image/png": "[encoded data removed]"
          },
          "metadata": {}
        }
      ]
    },
    {
      "cell_type": "code",
      "source": [
        "scores = df['review_scores_value']\n",
        "range = [3,3.5,3.75,4,4.25,4.5,4.75,5,5.25,5.5]\n",
        "plt.hist(scores, bins=range, edgecolor='black', color = 'green')\n",
        "\n",
        "plt.xlabel('Review Scores Values')\n",
        "plt.ylabel('Rango')\n",
        "plt.title('Gráfica de los valores de calificación en el DF')\n",
        "\n",
        "plt.show()"
      ],
      "metadata": {
        "colab": {
          "base_uri": "https://localhost:8080/",
          "height": 472
        },
        "id": "9o8wE2FEvbQe",
        "outputId": "0cd440c3-2b32-48df-c945-61c7329c48c2"
      },
      "execution_count": 156,
      "outputs": [
        {
          "output_type": "display_data",
          "data": {
            "text/plain": [
              "<Figure size 640x480 with 1 Axes>"
            ],
            "image/png": "[encoded data removed]"
          },
          "metadata": {}
        }
      ]
    },
    {
      "cell_type": "code",
      "source": [
        "scores = girona['review_scores_value']\n",
        "range = [3,3.5,3.75,4,4.25,4.5,4.75,5,5.25,5.5]\n",
        "plt.hist(scores, bins=range, edgecolor='black', color = 'red')\n",
        "\n",
        "plt.xlabel('Review Scores Values')\n",
        "plt.ylabel('Rango')\n",
        "plt.title('Gráfica de los valores de calificación en Girona')\n",
        "\n",
        "plt.show()"
      ],
      "metadata": {
        "colab": {
          "base_uri": "https://localhost:8080/",
          "height": 472
        },
        "id": "eCoens4zviFX",
        "outputId": "6e963c1e-ee9a-4d83-a08c-0111aeda7d4a"
      },
      "execution_count": 157,
      "outputs": [
        {
          "output_type": "display_data",
          "data": {
            "text/plain": [
              "<Figure size 640x480 with 1 Axes>"
            ],
            "image/png": "[encoded data removed]"
          },
          "metadata": {}
        }
      ]
    }
  ]
}